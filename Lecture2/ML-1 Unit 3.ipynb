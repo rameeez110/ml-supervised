{
 "cells": [
  {
   "cell_type": "code",
   "execution_count": null,
   "metadata": {},
   "outputs": [],
   "source": [
    "import pandas as pd"
   ]
  },
  {
   "cell_type": "markdown",
   "metadata": {},
   "source": [
    "1. Categorical Variables"
   ]
  },
  {
   "cell_type": "code",
   "execution_count": null,
   "metadata": {},
   "outputs": [],
   "source": [
    "#df = pd.read_csv(\"IML_DataSets\\Adult.csv\")\n",
    "df2 = pd.read_excel(\"DMforBA_DataSets\\ToyotaCorolla.xls\")\n",
    "df2 = df2.loc[:, df2.columns != 'Id']\n",
    "df2.head()"
   ]
  },
  {
   "cell_type": "code",
   "execution_count": null,
   "metadata": {},
   "outputs": [],
   "source": [
    "df = df2[['Price', 'Age_08_04', 'KM', 'Fuel_Type', 'Automatic', 'Gears']]\n",
    "display(df.head(10))"
   ]
  },
  {
   "cell_type": "markdown",
   "metadata": {},
   "source": [
    "one hot encoding"
   ]
  },
  {
   "cell_type": "code",
   "execution_count": null,
   "metadata": {},
   "outputs": [],
   "source": [
    "df_onehot = pd.get_dummies(df)\n",
    "print(\"Original features:\\n\", list(df.columns), \"\\n\")\n",
    "print(\"Features after get_dummies:\\n\", list(df_onehot.columns))"
   ]
  },
  {
   "cell_type": "markdown",
   "metadata": {},
   "source": [
    "dummy variables"
   ]
  },
  {
   "cell_type": "code",
   "execution_count": null,
   "metadata": {},
   "outputs": [],
   "source": [
    "df_dummy = pd.get_dummies(df,drop_first=True)\n",
    "print(\"Original features:\\n\", list(df.columns), \"\\n\")\n",
    "print(\"Features after get_dummies:\\n\", list(df_dummy.columns))"
   ]
  },
  {
   "cell_type": "code",
   "execution_count": null,
   "metadata": {},
   "outputs": [],
   "source": [
    "import statsmodels.api as sm"
   ]
  },
  {
   "cell_type": "code",
   "execution_count": null,
   "metadata": {},
   "outputs": [],
   "source": [
    "X = df_dummy.loc[:, df_dummy.columns != 'Price']\n",
    "y = df_dummy[['Price']]\n",
    "X = sm.add_constant(X)\n",
    "mod = sm.OLS(y, X)\n",
    "res = mod.fit()\n",
    "print(res.summary())"
   ]
  },
  {
   "cell_type": "code",
   "execution_count": null,
   "metadata": {},
   "outputs": [],
   "source": [
    "X2 = df_onehot.loc[:, df_onehot.columns != 'Price']\n",
    "y2 = df_onehot[['Price']]\n",
    "X2 = sm.add_constant(X2)\n",
    "mod = sm.OLS(y2, X2)\n",
    "res = mod.fit()\n",
    "print(res.summary())"
   ]
  },
  {
   "cell_type": "markdown",
   "metadata": {},
   "source": [
    "Holdout and CrossValidation"
   ]
  },
  {
   "cell_type": "code",
   "execution_count": null,
   "metadata": {},
   "outputs": [],
   "source": [
    "from sklearn.model_selection import train_test_split\n",
    "from sklearn.metrics import mean_squared_error, r2_score"
   ]
  },
  {
   "cell_type": "code",
   "execution_count": null,
   "metadata": {},
   "outputs": [],
   "source": [
    "X_train, X_test, y_train, y_test = train_test_split(X, y, test_size = 0.3)\n",
    "reg2 = LinearRegression().fit(X_train, y_train)\n",
    "y_pred_test = reg2.predict(X_test)\n",
    "print(\"Mean squared error: %.2f\" % mean_squared_error(y_test, y_pred_test))\n",
    "print(\"Coefficient of determination: %.3f\" % r2_score(y_test, y_pred_test))\n",
    "\n",
    "X_train, X_test, y_train, y_test = train_test_split(X2, y2, test_size = 0.3)\n",
    "reg2 = LinearRegression().fit(X_train, y_train)\n",
    "y_pred_test = reg2.predict(X_test)\n",
    "print(\"Mean squared error: %.2f\" % mean_squared_error(y_test, y_pred_test))\n",
    "print(\"Coefficient of determination: %.3f\" % r2_score(y_test, y_pred_test))"
   ]
  },
  {
   "cell_type": "code",
   "execution_count": null,
   "metadata": {},
   "outputs": [],
   "source": [
    "from sklearn.model_selection import KFold\n",
    "from sklearn.model_selection import cross_val_score\n",
    "from numpy import mean\n",
    "from sklearn.linear_model import LinearRegression"
   ]
  },
  {
   "cell_type": "code",
   "execution_count": null,
   "metadata": {},
   "outputs": [],
   "source": [
    "score_dummy = []\n",
    "score_onehot = []\n",
    "s_no = []\n",
    "for i in range(0,10):\n",
    "    # prepare the cross-validation procedure\n",
    "    cv = KFold(n_splits=10, random_state=i, shuffle=True)\n",
    "    reg = LinearRegression()\n",
    "    \n",
    "    # evaluate model\n",
    "    scores = cross_val_score(reg, X, y, cv=cv) \n",
    "    score_dummy.append(mean(scores))\n",
    "\n",
    "    scores = cross_val_score(reg, X2, y2, cv=cv) \n",
    "    score_onehot.append(mean(scores))\n",
    "    \n",
    "    s_no.append(i)\n",
    "    \n",
    "scores_df = pd.DataFrame(\n",
    "    {'S #': s_no,\n",
    "     'dummy': score_dummy,\n",
    "     'onehot': score_onehot\n",
    "    })\n",
    "scores_df.head(10)"
   ]
  },
  {
   "cell_type": "code",
   "execution_count": null,
   "metadata": {},
   "outputs": [],
   "source": [
    "from sklearn.model_selection import LeaveOneOut"
   ]
  },
  {
   "cell_type": "code",
   "execution_count": null,
   "metadata": {},
   "outputs": [],
   "source": [
    "score_dummy = []\n",
    "score_onehot = []\n",
    "s_no = []\n",
    "for i in range(0,10):\n",
    "    # prepare the cross-validation procedure\n",
    "    cv = LeaveOneOut()\n",
    "    reg = LinearRegression()\n",
    "    \n",
    "    # evaluate model\n",
    "    scores = cross_val_score(reg, X, y, cv=cv) \n",
    "    score_dummy.append(mean(scores))\n",
    "\n",
    "    scores = cross_val_score(reg, X2, y2, cv=cv) \n",
    "    score_onehot.append(mean(scores))\n",
    "    \n",
    "    s_no.append(i)\n",
    "    \n",
    "scores_df = pd.DataFrame(\n",
    "    {'S #': s_no,\n",
    "     'dummy': score_dummy,\n",
    "     'onehot': score_onehot\n",
    "    })\n",
    "scores_df.head(10)"
   ]
  },
  {
   "cell_type": "markdown",
   "metadata": {},
   "source": [
    "3. Filter/Wrapper"
   ]
  },
  {
   "cell_type": "code",
   "execution_count": null,
   "metadata": {},
   "outputs": [],
   "source": [
    "import matplotlib\n",
    "import matplotlib.pyplot as plt\n",
    "import seaborn as sns"
   ]
  },
  {
   "cell_type": "code",
   "execution_count": null,
   "metadata": {},
   "outputs": [],
   "source": [
    "#Using Pearson Correlation\n",
    "plt.figure(figsize=(12,10))\n",
    "#cor = df.corr()\n",
    "cor = df2.corr()\n",
    "#sns.heatmap(cor, annot=True, cmap=plt.cm.Reds)\n",
    "sns.heatmap(cor, annot=False, cmap=plt.cm.Reds)\n",
    "plt.show()"
   ]
  },
  {
   "cell_type": "code",
   "execution_count": null,
   "metadata": {},
   "outputs": [],
   "source": [
    "#Correlation with output variable\n",
    "cor_target = abs(cor[\"Price\"])\n",
    "#Selecting highly correlated features\n",
    "relevant_features = cor_target[cor_target>0.4]\n",
    "relevant_features"
   ]
  },
  {
   "cell_type": "code",
   "execution_count": null,
   "metadata": {},
   "outputs": [],
   "source": [
    "df3 = df2[['Price', 'Age_08_04', 'Mfg_Year','KM', 'Weight','Airco', 'Automatic_airco', \n",
    "          'Boardcomputer','CD_Player']]\n",
    "plt.figure(figsize=(12,10))\n",
    "#cor = df.corr()\n",
    "cor = df3.corr()\n",
    "sns.heatmap(cor, annot=True, cmap=plt.cm.Reds)\n",
    "#sns.heatmap(cor, annot=False, cmap=plt.cm.Reds)\n",
    "plt.show()"
   ]
  },
  {
   "cell_type": "markdown",
   "metadata": {},
   "source": [
    "4. AIC, BIC and Adjusted-R2"
   ]
  },
  {
   "cell_type": "code",
   "execution_count": null,
   "metadata": {},
   "outputs": [],
   "source": [
    "mod = sm.OLS(y, X)\n",
    "res = mod.fit()\n",
    "print(\"AIC: %.2f, BIC: %.2f, R2-Adj: %.2f\" % (res.aic, res.bic, res.rsquared_adj))\n",
    "#\"Mean squared error: %.2f\" % mean_squared_error(y_test, y_pred_test)"
   ]
  },
  {
   "cell_type": "code",
   "execution_count": null,
   "metadata": {},
   "outputs": [],
   "source": [
    "X.dtypes"
   ]
  },
  {
   "cell_type": "code",
   "execution_count": null,
   "metadata": {},
   "outputs": [],
   "source": [
    "X_Red2 = X[['const', 'Age_08_04', 'Gears', 'Automatic', 'Fuel_Type_Diesel', 'Fuel_Type_Petrol']]\n",
    "mod = sm.OLS(y, X_Red2)\n",
    "res = mod.fit()\n",
    "print(\"AIC: %.2f, BIC: %.2f, R2-Adj: %.2f\" % (res.aic, res.bic, res.rsquared_adj))"
   ]
  },
  {
   "cell_type": "code",
   "execution_count": null,
   "metadata": {},
   "outputs": [],
   "source": [
    "X_Red1 = X[['const', 'Age_08_04', 'KM', 'Fuel_Type_Diesel', 'Fuel_Type_Petrol']]\n",
    "mod = sm.OLS(y, X_Red1)\n",
    "res = mod.fit()\n",
    "print(\"AIC: %.2f, BIC: %.2f, R2-Adj: %.2f\" % (res.aic, res.bic, res.rsquared_adj))"
   ]
  }
 ],
 "metadata": {
  "interpreter": {
   "hash": "daa1e1e8cc02abab424c3c67ad92ae58b4c3e2acf06712591ade57fa4e2d4317"
  },
  "kernelspec": {
   "display_name": "Python 3.8.5 64-bit ('base': conda)",
   "language": "python",
   "name": "python3"
  },
  "language_info": {
   "codemirror_mode": {
    "name": "ipython",
    "version": 3
   },
   "file_extension": ".py",
   "mimetype": "text/x-python",
   "name": "python",
   "nbconvert_exporter": "python",
   "pygments_lexer": "ipython3",
   "version": "3.8.5"
  },
  "orig_nbformat": 4
 },
 "nbformat": 4,
 "nbformat_minor": 2
}
