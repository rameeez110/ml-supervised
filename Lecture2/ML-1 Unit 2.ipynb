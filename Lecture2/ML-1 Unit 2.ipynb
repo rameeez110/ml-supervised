{
 "cells": [
  {
   "cell_type": "code",
   "execution_count": 1,
   "metadata": {},
   "outputs": [],
   "source": [
    "from sklearn.linear_model import LinearRegression\n",
    "from sklearn.metrics import mean_squared_error, r2_score\n",
    "from sklearn.model_selection import train_test_split\n",
    "import pandas as pd\n",
    "import matplotlib.pyplot as plt\n",
    "import statsmodels.api as sm"
   ]
  },
  {
   "cell_type": "markdown",
   "metadata": {},
   "source": [
    "Loading the Advertising Data"
   ]
  },
  {
   "cell_type": "code",
   "execution_count": 31,
   "metadata": {},
   "outputs": [
    {
     "name": "stdout",
     "output_type": "stream",
     "text": [
      "(200, 5)\n",
      "Index(['S_No', 'TV', 'radio', 'newspaper', 'sales'], dtype='object')\n"
     ]
    }
   ],
   "source": [
    "df = pd.read_csv(\"Advertising.csv\")\n",
    "print(df.shape)\n",
    "print(df.columns)"
   ]
  },
  {
   "cell_type": "markdown",
   "metadata": {},
   "source": [
    "Running Single Variable Regression"
   ]
  },
  {
   "cell_type": "code",
   "execution_count": 3,
   "metadata": {},
   "outputs": [
    {
     "name": "stdout",
     "output_type": "stream",
     "text": [
      "0.611875050850071\n",
      "[[0.04753664]]\n",
      "[7.03259355]\n"
     ]
    }
   ],
   "source": [
    "# X = df[['TV','radio','newspaper']]\n",
    "X = df[['TV']]\n",
    "y = df[['sales']]\n",
    "reg = LinearRegression().fit(X, y)\n",
    "print(reg.score(X, y))\n",
    "print(reg.coef_)\n",
    "print(reg.intercept_)"
   ]
  },
  {
   "cell_type": "code",
   "execution_count": 4,
   "metadata": {},
   "outputs": [
    {
     "name": "stdout",
     "output_type": "stream",
     "text": [
      "Mean squared error: 10.51\n",
      "Coefficient of determination: 0.61\n"
     ]
    }
   ],
   "source": [
    "y_pred = reg.predict(X)\n",
    "print(\"Mean squared error: %.2f\" % mean_squared_error(y, y_pred))\n",
    "print(\"Coefficient of determination: %.2f\" % r2_score(y, y_pred))"
   ]
  },
  {
   "cell_type": "code",
   "execution_count": 5,
   "metadata": {},
   "outputs": [
    {
     "data": {
      "image/png": "[encoded data removed]",
      "text/plain": [
       "<Figure size 432x288 with 1 Axes>"
      ]
     },
     "metadata": {
      "needs_background": "light"
     },
     "output_type": "display_data"
    }
   ],
   "source": [
    "plt.scatter(X, y, color=\"black\")\n",
    "plt.plot(X, y_pred, color=\"blue\", linewidth=3)\n",
    "\n",
    "#plt.xticks(())\n",
    "#plt.yticks(())\n",
    "\n",
    "plt.show()"
   ]
  },
  {
   "cell_type": "markdown",
   "metadata": {},
   "source": [
    "Running the Regression on Test Data and Analyze the Difference in R2 and MSE"
   ]
  },
  {
   "cell_type": "code",
   "execution_count": 7,
   "metadata": {},
   "outputs": [],
   "source": [
    "# repeat this activity multiple times and record the R2 and MSE for each run\n",
    "X_train, X_test, y_train, y_test = train_test_split(X, y, test_size = 0.3)"
   ]
  },
  {
   "cell_type": "code",
   "execution_count": 8,
   "metadata": {},
   "outputs": [
    {
     "name": "stdout",
     "output_type": "stream",
     "text": [
      "0.6110891546096515\n",
      "[[0.04772077]]\n",
      "[6.86047398]\n",
      "Mean squared error: 10.06\n",
      "Coefficient of determination: 0.600\n"
     ]
    }
   ],
   "source": [
    "reg2 = LinearRegression().fit(X_train, y_train)\n",
    "print(reg2.score(X, y))\n",
    "print(reg2.coef_)\n",
    "print(reg2.intercept_)\n",
    "y_pred_test = reg2.predict(X_test)\n",
    "print(\"Mean squared error: %.2f\" % mean_squared_error(y_test, y_pred_test))\n",
    "print(\"Coefficient of determination: %.3f\" % r2_score(y_test, y_pred_test))"
   ]
  },
  {
   "cell_type": "code",
   "execution_count": 11,
   "metadata": {},
   "outputs": [],
   "source": [
    "#repeat the activity for radio and newspaper as well"
   ]
  },
  {
   "cell_type": "markdown",
   "metadata": {},
   "source": [
    "Multiple Linear Regression"
   ]
  },
  {
   "cell_type": "code",
   "execution_count": 9,
   "metadata": {},
   "outputs": [
    {
     "name": "stdout",
     "output_type": "stream",
     "text": [
      "0.8971942610828957\n",
      "[[0.04575482 0.18799423]]\n",
      "[2.92109991]\n",
      "Mean squared error: 2.78\n",
      "Coefficient of determination: 0.897\n"
     ]
    }
   ],
   "source": [
    "# 2 variables\n",
    "#X = df[['TV','radio','newspaper']]\n",
    "X = df[['TV','radio']]\n",
    "y = df[['sales']]\n",
    "reg = LinearRegression().fit(X, y)\n",
    "print(reg.score(X, y))\n",
    "print(reg.coef_)\n",
    "print(reg.intercept_)\n",
    "y_pred = reg.predict(X)\n",
    "print(\"Mean squared error: %.2f\" % mean_squared_error(y, y_pred))\n",
    "print(\"Coefficient of determination: %.3f\" % r2_score(y, y_pred))"
   ]
  },
  {
   "cell_type": "code",
   "execution_count": 10,
   "metadata": {},
   "outputs": [
    {
     "name": "stdout",
     "output_type": "stream",
     "text": [
      "0.9052258241095261\n",
      "[[0.04761796 0.18300295]]\n",
      "[2.71049139]\n",
      "Mean squared error: 3.44\n",
      "Coefficient of determination: 0.875\n"
     ]
    }
   ],
   "source": [
    "# train test split\n",
    "#X = df[['TV','radio','newspaper']]\n",
    "X = df[['TV','radio']]\n",
    "y = df[['sales']]\n",
    "X_train, X_test, y_train, y_test = train_test_split(X, y, test_size = 0.3)\n",
    "reg2 = LinearRegression().fit(X_train, y_train)\n",
    "print(reg2.score(X_train, y_train))\n",
    "print(reg2.coef_)\n",
    "print(reg2.intercept_)\n",
    "y_pred_test = reg2.predict(X_test)\n",
    "print(\"Mean squared error: %.2f\" % mean_squared_error(y_test, y_pred_test))\n",
    "print(\"Coefficient of determination: %.3f\" % r2_score(y_test, y_pred_test))"
   ]
  },
  {
   "cell_type": "code",
   "execution_count": 11,
   "metadata": {},
   "outputs": [
    {
     "name": "stdout",
     "output_type": "stream",
     "text": [
      "0.8972106381789521\n",
      "[[ 0.04576465  0.18853002 -0.00103749]]\n",
      "[2.93888937]\n",
      "Mean squared error: 2.78\n",
      "Coefficient of determination: 0.897\n"
     ]
    }
   ],
   "source": [
    "# 3 variables\n",
    "X = df[['TV','radio','newspaper']]\n",
    "#X = df[['TV','radio']]\n",
    "y = df[['sales']]\n",
    "reg = LinearRegression().fit(X, y)\n",
    "print(reg.score(X, y))\n",
    "print(reg.coef_)\n",
    "print(reg.intercept_)\n",
    "y_pred = reg.predict(X)\n",
    "print(\"Mean squared error: %.2f\" % mean_squared_error(y, y_pred))\n",
    "print(\"Coefficient of determination: %.3f\" % r2_score(y, y_pred))"
   ]
  },
  {
   "cell_type": "code",
   "execution_count": 28,
   "metadata": {},
   "outputs": [
    {
     "name": "stdout",
     "output_type": "stream",
     "text": [
      "0.8873314597889973\n",
      "[[ 0.04587108  0.1883532  -0.0030418 ]]\n",
      "[3.00027651]\n",
      "Mean squared error: 2.91\n",
      "Coefficient of determination: 0.887\n"
     ]
    }
   ],
   "source": [
    "# train test split - 3 variables\n",
    "X = df[['TV','radio','newspaper']]\n",
    "#X = df[['TV','radio']]\n",
    "y = df[['sales']]\n",
    "X_train, X_test, y_train, y_test = train_test_split(X, y, test_size = 0.3)\n",
    "reg2 = LinearRegression().fit(X_train, y_train)\n",
    "print(reg2.score(X_train, y_train))\n",
    "print(reg2.coef_)\n",
    "print(reg2.intercept_)\n",
    "y_pred_test = reg2.predict(X_test)\n",
    "print(\"Mean squared error: %.2f\" % mean_squared_error(y_test, y_pred_test))\n",
    "print(\"Coefficient of determination: %.3f\" % r2_score(y_test, y_pred_test))\n"
   ]
  },
  {
   "cell_type": "code",
   "execution_count": 14,
   "metadata": {},
   "outputs": [
    {
     "data": {
      "text/html": [
       "<div>\n",
       "<style scoped>\n",
       "    .dataframe tbody tr th:only-of-type {\n",
       "        vertical-align: middle;\n",
       "    }\n",
       "\n",
       "    .dataframe tbody tr th {\n",
       "        vertical-align: top;\n",
       "    }\n",
       "\n",
       "    .dataframe thead th {\n",
       "        text-align: right;\n",
       "    }\n",
       "</style>\n",
       "<table border=\"1\" class=\"dataframe\">\n",
       "  <thead>\n",
       "    <tr style=\"text-align: right;\">\n",
       "      <th></th>\n",
       "      <th>TV</th>\n",
       "      <th>radio</th>\n",
       "      <th>newspaper</th>\n",
       "      <th>sales</th>\n",
       "    </tr>\n",
       "  </thead>\n",
       "  <tbody>\n",
       "    <tr>\n",
       "      <th>TV</th>\n",
       "      <td>1.000000</td>\n",
       "      <td>0.054809</td>\n",
       "      <td>0.056648</td>\n",
       "      <td>0.782224</td>\n",
       "    </tr>\n",
       "    <tr>\n",
       "      <th>radio</th>\n",
       "      <td>0.054809</td>\n",
       "      <td>1.000000</td>\n",
       "      <td>0.354104</td>\n",
       "      <td>0.576223</td>\n",
       "    </tr>\n",
       "    <tr>\n",
       "      <th>newspaper</th>\n",
       "      <td>0.056648</td>\n",
       "      <td>0.354104</td>\n",
       "      <td>1.000000</td>\n",
       "      <td>0.228299</td>\n",
       "    </tr>\n",
       "    <tr>\n",
       "      <th>sales</th>\n",
       "      <td>0.782224</td>\n",
       "      <td>0.576223</td>\n",
       "      <td>0.228299</td>\n",
       "      <td>1.000000</td>\n",
       "    </tr>\n",
       "  </tbody>\n",
       "</table>\n",
       "</div>"
      ],
      "text/plain": [
       "                 TV     radio  newspaper     sales\n",
       "TV         1.000000  0.054809   0.056648  0.782224\n",
       "radio      0.054809  1.000000   0.354104  0.576223\n",
       "newspaper  0.056648  0.354104   1.000000  0.228299\n",
       "sales      0.782224  0.576223   0.228299  1.000000"
      ]
     },
     "execution_count": 14,
     "metadata": {},
     "output_type": "execute_result"
    }
   ],
   "source": [
    "#compute correlation matrix\n",
    "X2 = df.drop(columns=['S_No'])\n",
    "X2.corr()"
   ]
  },
  {
   "cell_type": "markdown",
   "metadata": {},
   "source": [
    "Using Statsmodel Library"
   ]
  },
  {
   "cell_type": "code",
   "execution_count": 22,
   "metadata": {},
   "outputs": [
    {
     "name": "stdout",
     "output_type": "stream",
     "text": [
      "                            OLS Regression Results                            \n",
      "==============================================================================\n",
      "Dep. Variable:                  sales   R-squared:                       0.897\n",
      "Model:                            OLS   Adj. R-squared:                  0.896\n",
      "Method:                 Least Squares   F-statistic:                     570.3\n",
      "Date:                Thu, 27 Jan 2022   Prob (F-statistic):           1.58e-96\n",
      "Time:                        14:23:24   Log-Likelihood:                -386.18\n",
      "No. Observations:                 200   AIC:                             780.4\n",
      "Df Residuals:                     196   BIC:                             793.6\n",
      "Df Model:                           3                                         \n",
      "Covariance Type:            nonrobust                                         \n",
      "==============================================================================\n",
      "                 coef    std err          t      P>|t|      [0.025      0.975]\n",
      "------------------------------------------------------------------------------\n",
      "const          2.9389      0.312      9.422      0.000       2.324       3.554\n",
      "TV             0.0458      0.001     32.809      0.000       0.043       0.049\n",
      "radio          0.1885      0.009     21.893      0.000       0.172       0.206\n",
      "newspaper     -0.0010      0.006     -0.177      0.860      -0.013       0.011\n",
      "==============================================================================\n",
      "Omnibus:                       60.414   Durbin-Watson:                   2.084\n",
      "Prob(Omnibus):                  0.000   Jarque-Bera (JB):              151.241\n",
      "Skew:                          -1.327   Prob(JB):                     1.44e-33\n",
      "Kurtosis:                       6.332   Cond. No.                         454.\n",
      "==============================================================================\n",
      "\n",
      "Notes:\n",
      "[1] Standard Errors assume that the covariance matrix of the errors is correctly specified.\n"
     ]
    }
   ],
   "source": [
    "X = sm.add_constant(X)\n",
    "mod = sm.OLS(y, X)\n",
    "res = mod.fit()\n",
    "print(res.summary())\n"
   ]
  },
  {
   "cell_type": "markdown",
   "metadata": {},
   "source": [
    "Interaction Model"
   ]
  },
  {
   "cell_type": "code",
   "execution_count": 19,
   "metadata": {},
   "outputs": [
    {
     "name": "stdout",
     "output_type": "stream",
     "text": [
      "(200, 3)\n"
     ]
    },
    {
     "name": "stderr",
     "output_type": "stream",
     "text": [
      "<ipython-input-19-4924abfbcf59>:2: SettingWithCopyWarning: \n",
      "A value is trying to be set on a copy of a slice from a DataFrame.\n",
      "Try using .loc[row_indexer,col_indexer] = value instead\n",
      "\n",
      "See the caveats in the documentation: https://pandas.pydata.org/pandas-docs/stable/user_guide/indexing.html#returning-a-view-versus-a-copy\n",
      "  X['TV_Radio'] = df['TV']*df['radio']\n"
     ]
    },
    {
     "data": {
      "text/html": [
       "<div>\n",
       "<style scoped>\n",
       "    .dataframe tbody tr th:only-of-type {\n",
       "        vertical-align: middle;\n",
       "    }\n",
       "\n",
       "    .dataframe tbody tr th {\n",
       "        vertical-align: top;\n",
       "    }\n",
       "\n",
       "    .dataframe thead th {\n",
       "        text-align: right;\n",
       "    }\n",
       "</style>\n",
       "<table border=\"1\" class=\"dataframe\">\n",
       "  <thead>\n",
       "    <tr style=\"text-align: right;\">\n",
       "      <th></th>\n",
       "      <th>TV</th>\n",
       "      <th>radio</th>\n",
       "      <th>TV_Radio</th>\n",
       "    </tr>\n",
       "  </thead>\n",
       "  <tbody>\n",
       "    <tr>\n",
       "      <th>0</th>\n",
       "      <td>230.1</td>\n",
       "      <td>37.8</td>\n",
       "      <td>8697.78</td>\n",
       "    </tr>\n",
       "    <tr>\n",
       "      <th>1</th>\n",
       "      <td>44.5</td>\n",
       "      <td>39.3</td>\n",
       "      <td>1748.85</td>\n",
       "    </tr>\n",
       "    <tr>\n",
       "      <th>2</th>\n",
       "      <td>17.2</td>\n",
       "      <td>45.9</td>\n",
       "      <td>789.48</td>\n",
       "    </tr>\n",
       "    <tr>\n",
       "      <th>3</th>\n",
       "      <td>151.5</td>\n",
       "      <td>41.3</td>\n",
       "      <td>6256.95</td>\n",
       "    </tr>\n",
       "    <tr>\n",
       "      <th>4</th>\n",
       "      <td>180.8</td>\n",
       "      <td>10.8</td>\n",
       "      <td>1952.64</td>\n",
       "    </tr>\n",
       "  </tbody>\n",
       "</table>\n",
       "</div>"
      ],
      "text/plain": [
       "      TV  radio  TV_Radio\n",
       "0  230.1   37.8   8697.78\n",
       "1   44.5   39.3   1748.85\n",
       "2   17.2   45.9    789.48\n",
       "3  151.5   41.3   6256.95\n",
       "4  180.8   10.8   1952.64"
      ]
     },
     "execution_count": 19,
     "metadata": {},
     "output_type": "execute_result"
    }
   ],
   "source": [
    "X = df[['TV','radio']]\n",
    "X['TV_Radio'] = df['TV']*df['radio']\n",
    "print(X.shape)\n",
    "X.head()"
   ]
  },
  {
   "cell_type": "code",
   "execution_count": 30,
   "metadata": {},
   "outputs": [
    {
     "name": "stdout",
     "output_type": "stream",
     "text": [
      "0.8972106381789521\n",
      "[[ 0.04576465  0.18853002 -0.00103749]]\n",
      "[2.93888937]\n",
      "Mean squared error: 2.78\n",
      "Coefficient of determination: 0.897\n"
     ]
    }
   ],
   "source": [
    "y = df[['sales']]\n",
    "reg = LinearRegression().fit(X, y)\n",
    "print(reg.score(X, y))\n",
    "print(reg.coef_)\n",
    "print(reg.intercept_)\n",
    "y_pred = reg.predict(X)\n",
    "print(\"Mean squared error: %.2f\" % mean_squared_error(y, y_pred))\n",
    "print(\"Coefficient of determination: %.3f\" % r2_score(y, y_pred))"
   ]
  },
  {
   "cell_type": "code",
   "execution_count": 21,
   "metadata": {},
   "outputs": [
    {
     "name": "stdout",
     "output_type": "stream",
     "text": [
      "                            OLS Regression Results                            \n",
      "==============================================================================\n",
      "Dep. Variable:                  sales   R-squared:                       0.968\n",
      "Model:                            OLS   Adj. R-squared:                  0.967\n",
      "Method:                 Least Squares   F-statistic:                     1963.\n",
      "Date:                Wed, 26 Jan 2022   Prob (F-statistic):          6.68e-146\n",
      "Time:                        15:52:06   Log-Likelihood:                -270.14\n",
      "No. Observations:                 200   AIC:                             548.3\n",
      "Df Residuals:                     196   BIC:                             561.5\n",
      "Df Model:                           3                                         \n",
      "Covariance Type:            nonrobust                                         \n",
      "==============================================================================\n",
      "                 coef    std err          t      P>|t|      [0.025      0.975]\n",
      "------------------------------------------------------------------------------\n",
      "const          6.7502      0.248     27.233      0.000       6.261       7.239\n",
      "TV             0.0191      0.002     12.699      0.000       0.016       0.022\n",
      "radio          0.0289      0.009      3.241      0.001       0.011       0.046\n",
      "TV_Radio       0.0011   5.24e-05     20.727      0.000       0.001       0.001\n",
      "==============================================================================\n",
      "Omnibus:                      128.132   Durbin-Watson:                   2.224\n",
      "Prob(Omnibus):                  0.000   Jarque-Bera (JB):             1183.719\n",
      "Skew:                          -2.323   Prob(JB):                    9.09e-258\n",
      "Kurtosis:                      13.975   Cond. No.                     1.80e+04\n",
      "==============================================================================\n",
      "\n",
      "Notes:\n",
      "[1] Standard Errors assume that the covariance matrix of the errors is correctly specified.\n",
      "[2] The condition number is large, 1.8e+04. This might indicate that there are\n",
      "strong multicollinearity or other numerical problems.\n"
     ]
    }
   ],
   "source": [
    "X = sm.add_constant(X)\n",
    "mod = sm.OLS(y, X)\n",
    "res = mod.fit()\n",
    "print(res.summary())"
   ]
  },
  {
   "cell_type": "code",
   "execution_count": 22,
   "metadata": {},
   "outputs": [],
   "source": [
    "#show it for test data as well"
   ]
  },
  {
   "cell_type": "code",
   "execution_count": 23,
   "metadata": {},
   "outputs": [],
   "source": [
    "from sklearn.preprocessing import PolynomialFeatures"
   ]
  },
  {
   "cell_type": "code",
   "execution_count": 24,
   "metadata": {},
   "outputs": [
    {
     "name": "stdout",
     "output_type": "stream",
     "text": [
      "(200, 4)\n",
      "['1' 'TV' 'radio' 'TV radio']\n",
      "                            OLS Regression Results                            \n",
      "==============================================================================\n",
      "Dep. Variable:                  sales   R-squared:                       0.968\n",
      "Model:                            OLS   Adj. R-squared:                  0.967\n",
      "Method:                 Least Squares   F-statistic:                     1963.\n",
      "Date:                Wed, 26 Jan 2022   Prob (F-statistic):          6.68e-146\n",
      "Time:                        15:52:14   Log-Likelihood:                -270.14\n",
      "No. Observations:                 200   AIC:                             548.3\n",
      "Df Residuals:                     196   BIC:                             561.5\n",
      "Df Model:                           3                                         \n",
      "Covariance Type:            nonrobust                                         \n",
      "==============================================================================\n",
      "                 coef    std err          t      P>|t|      [0.025      0.975]\n",
      "------------------------------------------------------------------------------\n",
      "const          6.7502      0.248     27.233      0.000       6.261       7.239\n",
      "x1             0.0191      0.002     12.699      0.000       0.016       0.022\n",
      "x2             0.0289      0.009      3.241      0.001       0.011       0.046\n",
      "x3             0.0011   5.24e-05     20.727      0.000       0.001       0.001\n",
      "==============================================================================\n",
      "Omnibus:                      128.132   Durbin-Watson:                   2.224\n",
      "Prob(Omnibus):                  0.000   Jarque-Bera (JB):             1183.719\n",
      "Skew:                          -2.323   Prob(JB):                    9.09e-258\n",
      "Kurtosis:                      13.975   Cond. No.                     1.80e+04\n",
      "==============================================================================\n",
      "\n",
      "Notes:\n",
      "[1] Standard Errors assume that the covariance matrix of the errors is correctly specified.\n",
      "[2] The condition number is large, 1.8e+04. This might indicate that there are\n",
      "strong multicollinearity or other numerical problems.\n"
     ]
    }
   ],
   "source": [
    "poly = PolynomialFeatures(2,interaction_only=True)\n",
    "X = X = df[['TV','radio']]\n",
    "y = df[['sales']]\n",
    "X2 = poly.fit_transform(X)\n",
    "print(X2.shape)\n",
    "print(poly.get_feature_names_out())\n",
    "X2 = sm.add_constant(X2)\n",
    "mod = sm.OLS(y, X2)\n",
    "res = mod.fit()\n",
    "print(res.summary())"
   ]
  },
  {
   "cell_type": "code",
   "execution_count": 25,
   "metadata": {},
   "outputs": [
    {
     "name": "stdout",
     "output_type": "stream",
     "text": [
      "(200, 6)\n",
      "['1' 'TV' 'radio' 'TV^2' 'TV radio' 'radio^2']\n",
      "                            OLS Regression Results                            \n",
      "==============================================================================\n",
      "Dep. Variable:                  sales   R-squared:                       0.986\n",
      "Model:                            OLS   Adj. R-squared:                  0.986\n",
      "Method:                 Least Squares   F-statistic:                     2740.\n",
      "Date:                Wed, 26 Jan 2022   Prob (F-statistic):          8.17e-178\n",
      "Time:                        15:52:23   Log-Likelihood:                -186.54\n",
      "No. Observations:                 200   AIC:                             385.1\n",
      "Df Residuals:                     194   BIC:                             404.9\n",
      "Df Model:                           5                                         \n",
      "Covariance Type:            nonrobust                                         \n",
      "==============================================================================\n",
      "                 coef    std err          t      P>|t|      [0.025      0.975]\n",
      "------------------------------------------------------------------------------\n",
      "const          5.1944      0.206     25.202      0.000       4.788       5.601\n",
      "x1             0.0510      0.002     22.801      0.000       0.047       0.055\n",
      "x2             0.0265      0.012      2.136      0.034       0.002       0.051\n",
      "x3            -0.0001    6.9e-06    -15.914      0.000      -0.000   -9.62e-05\n",
      "x4             0.0011   3.48e-05     30.892      0.000       0.001       0.001\n",
      "x5             0.0002      0.000      0.789      0.431      -0.000       0.001\n",
      "==============================================================================\n",
      "Omnibus:                      170.235   Durbin-Watson:                   2.200\n",
      "Prob(Omnibus):                  0.000   Jarque-Bera (JB):             4115.221\n",
      "Skew:                          -2.994   Prob(JB):                         0.00\n",
      "Kurtosis:                      24.400   Cond. No.                     1.81e+05\n",
      "==============================================================================\n",
      "\n",
      "Notes:\n",
      "[1] Standard Errors assume that the covariance matrix of the errors is correctly specified.\n",
      "[2] The condition number is large, 1.81e+05. This might indicate that there are\n",
      "strong multicollinearity or other numerical problems.\n"
     ]
    }
   ],
   "source": [
    "poly = PolynomialFeatures(2) #,interaction_only=True)\n",
    "X = df[['TV','radio']]\n",
    "y = df[['sales']]\n",
    "X2 = poly.fit_transform(X)\n",
    "print(X2.shape)\n",
    "print(poly.get_feature_names_out())\n",
    "X2 = sm.add_constant(X2)\n",
    "mod = sm.OLS(y, X2)\n",
    "res = mod.fit()\n",
    "print(res.summary())"
   ]
  },
  {
   "cell_type": "markdown",
   "metadata": {},
   "source": [
    "Feature Selection (Forward and Backward)"
   ]
  },
  {
   "cell_type": "code",
   "execution_count": 26,
   "metadata": {},
   "outputs": [],
   "source": [
    "from sklearn.feature_selection import SequentialFeatureSelector"
   ]
  },
  {
   "cell_type": "markdown",
   "metadata": {},
   "source": [
    "Multiple Regression and Feature Selection using Boston Data"
   ]
  },
  {
   "cell_type": "code",
   "execution_count": 28,
   "metadata": {},
   "outputs": [
    {
     "name": "stdout",
     "output_type": "stream",
     "text": [
      "(506, 14)\n",
      "Index(['s_no', 'crim', 'zn', 'indus', 'chas', 'nox', 'rm', 'age', 'dis', 'rad',\n",
      "       'tax', 'ptratio', 'lstat', 'medv'],\n",
      "      dtype='object')\n"
     ]
    }
   ],
   "source": [
    "df = pd.read_csv(\"Boston.csv\")\n",
    "print(df.shape)\n",
    "print(df.columns)"
   ]
  },
  {
   "cell_type": "code",
   "execution_count": 29,
   "metadata": {},
   "outputs": [
    {
     "name": "stdout",
     "output_type": "stream",
     "text": [
      "(506, 12)\n"
     ]
    }
   ],
   "source": [
    "X = df.drop(columns=['s_no','medv'])\n",
    "print(X.shape)\n",
    "y = df[['medv']]"
   ]
  },
  {
   "cell_type": "code",
   "execution_count": 30,
   "metadata": {},
   "outputs": [
    {
     "name": "stdout",
     "output_type": "stream",
     "text": [
      "                            OLS Regression Results                            \n",
      "==============================================================================\n",
      "Dep. Variable:                   medv   R-squared:                       0.734\n",
      "Model:                            OLS   Adj. R-squared:                  0.728\n",
      "Method:                 Least Squares   F-statistic:                     113.5\n",
      "Date:                Wed, 26 Jan 2022   Prob (F-statistic):          2.23e-133\n",
      "Time:                        15:52:48   Log-Likelihood:                -1504.9\n",
      "No. Observations:                 506   AIC:                             3036.\n",
      "Df Residuals:                     493   BIC:                             3091.\n",
      "Df Model:                          12                                         \n",
      "Covariance Type:            nonrobust                                         \n",
      "==============================================================================\n",
      "                 coef    std err          t      P>|t|      [0.025      0.975]\n",
      "------------------------------------------------------------------------------\n",
      "const         41.6173      4.936      8.431      0.000      31.919      51.316\n",
      "crim          -0.1214      0.033     -3.678      0.000      -0.186      -0.057\n",
      "zn             0.0470      0.014      3.384      0.001       0.020       0.074\n",
      "indus          0.0135      0.062      0.217      0.829      -0.109       0.136\n",
      "chas           2.8400      0.870      3.264      0.001       1.131       4.549\n",
      "nox          -18.7580      3.851     -4.870      0.000     -26.325     -11.191\n",
      "rm             3.6581      0.420      8.705      0.000       2.832       4.484\n",
      "age            0.0036      0.013      0.271      0.787      -0.023       0.030\n",
      "dis           -1.4908      0.202     -7.394      0.000      -1.887      -1.095\n",
      "rad            0.2894      0.067      4.325      0.000       0.158       0.421\n",
      "tax           -0.0127      0.004     -3.337      0.001      -0.020      -0.005\n",
      "ptratio       -0.9375      0.132     -7.091      0.000      -1.197      -0.678\n",
      "lstat         -0.5520      0.051    -10.897      0.000      -0.652      -0.452\n",
      "==============================================================================\n",
      "Omnibus:                      171.096   Durbin-Watson:                   1.077\n",
      "Prob(Omnibus):                  0.000   Jarque-Bera (JB):              709.937\n",
      "Skew:                           1.477   Prob(JB):                    6.90e-155\n",
      "Kurtosis:                       7.995   Cond. No.                     1.17e+04\n",
      "==============================================================================\n",
      "\n",
      "Notes:\n",
      "[1] Standard Errors assume that the covariance matrix of the errors is correctly specified.\n",
      "[2] The condition number is large, 1.17e+04. This might indicate that there are\n",
      "strong multicollinearity or other numerical problems.\n"
     ]
    }
   ],
   "source": [
    "X = sm.add_constant(X)\n",
    "mod = sm.OLS(y, X)\n",
    "res = mod.fit()\n",
    "print(res.summary())"
   ]
  },
  {
   "cell_type": "code",
   "execution_count": 31,
   "metadata": {},
   "outputs": [
    {
     "name": "stdout",
     "output_type": "stream",
     "text": [
      "['crim' 'chas' 'rm' 'ptratio' 'lstat']\n"
     ]
    }
   ],
   "source": [
    "ols_reg = LinearRegression()\n",
    "sfs = SequentialFeatureSelector(ols_reg, direction='forward',n_features_to_select=5)\n",
    "sfs.fit(X, y)\n",
    "print(sfs.get_feature_names_out())"
   ]
  },
  {
   "cell_type": "code",
   "execution_count": 32,
   "metadata": {},
   "outputs": [
    {
     "name": "stdout",
     "output_type": "stream",
     "text": [
      "['zn' 'nox' 'dis' 'ptratio' 'lstat']\n"
     ]
    }
   ],
   "source": [
    "ols_reg = LinearRegression()\n",
    "sfs = SequentialFeatureSelector(ols_reg, direction='backward',n_features_to_select=5)\n",
    "sfs.fit(X, y)\n",
    "print(sfs.get_feature_names_out())"
   ]
  },
  {
   "cell_type": "markdown",
   "metadata": {},
   "source": [
    "Automating Polynomial Regression and Interaction"
   ]
  },
  {
   "cell_type": "code",
   "execution_count": 33,
   "metadata": {},
   "outputs": [
    {
     "name": "stdout",
     "output_type": "stream",
     "text": [
      "(506, 91)\n",
      "['1' 'crim' 'zn' 'indus' 'chas' 'nox' 'rm' 'age' 'dis' 'rad' 'tax'\n",
      " 'ptratio' 'lstat' 'crim^2' 'crim zn' 'crim indus' 'crim chas' 'crim nox'\n",
      " 'crim rm' 'crim age' 'crim dis' 'crim rad' 'crim tax' 'crim ptratio'\n",
      " 'crim lstat' 'zn^2' 'zn indus' 'zn chas' 'zn nox' 'zn rm' 'zn age'\n",
      " 'zn dis' 'zn rad' 'zn tax' 'zn ptratio' 'zn lstat' 'indus^2' 'indus chas'\n",
      " 'indus nox' 'indus rm' 'indus age' 'indus dis' 'indus rad' 'indus tax'\n",
      " 'indus ptratio' 'indus lstat' 'chas^2' 'chas nox' 'chas rm' 'chas age'\n",
      " 'chas dis' 'chas rad' 'chas tax' 'chas ptratio' 'chas lstat' 'nox^2'\n",
      " 'nox rm' 'nox age' 'nox dis' 'nox rad' 'nox tax' 'nox ptratio'\n",
      " 'nox lstat' 'rm^2' 'rm age' 'rm dis' 'rm rad' 'rm tax' 'rm ptratio'\n",
      " 'rm lstat' 'age^2' 'age dis' 'age rad' 'age tax' 'age ptratio'\n",
      " 'age lstat' 'dis^2' 'dis rad' 'dis tax' 'dis ptratio' 'dis lstat' 'rad^2'\n",
      " 'rad tax' 'rad ptratio' 'rad lstat' 'tax^2' 'tax ptratio' 'tax lstat'\n",
      " 'ptratio^2' 'ptratio lstat' 'lstat^2']\n",
      "                            OLS Regression Results                            \n",
      "==============================================================================\n",
      "Dep. Variable:                   medv   R-squared:                       0.921\n",
      "Model:                            OLS   Adj. R-squared:                  0.905\n",
      "Method:                 Least Squares   F-statistic:                     54.77\n",
      "Date:                Wed, 26 Jan 2022   Prob (F-statistic):          7.32e-183\n",
      "Time:                        15:52:55   Log-Likelihood:                -1196.8\n",
      "No. Observations:                 506   AIC:                             2574.\n",
      "Df Residuals:                     416   BIC:                             2954.\n",
      "Df Model:                          89                                         \n",
      "Covariance Type:            nonrobust                                         \n",
      "==============================================================================\n",
      "                 coef    std err          t      P>|t|      [0.025      0.975]\n",
      "------------------------------------------------------------------------------\n",
      "const       -161.9883     80.632     -2.009      0.045    -320.485      -3.491\n",
      "x1            -5.9779      7.059     -0.847      0.398     -19.854       7.899\n",
      "x2             0.3145      0.393      0.801      0.424      -0.458       1.087\n",
      "x3            -4.0845      1.768     -2.310      0.021      -7.559      -0.609\n",
      "x4            34.1509      9.909      3.446      0.001      14.673      53.629\n",
      "x5           176.7024    125.273      1.411      0.159     -69.545     422.950\n",
      "x6            20.1502      7.892      2.553      0.011       4.638      35.663\n",
      "x7             0.5921      0.268      2.212      0.027       0.066       1.118\n",
      "x8            -5.8499      4.483     -1.305      0.193     -14.661       2.962\n",
      "x9             1.7117      2.398      0.714      0.476      -3.002       6.425\n",
      "x10           -0.0034      0.115     -0.030      0.976      -0.229       0.223\n",
      "x11            7.8798      3.919      2.010      0.045       0.176      15.584\n",
      "x12            0.2844      0.835      0.341      0.733      -1.356       1.925\n",
      "x13            0.0016      0.001      1.310      0.191      -0.001       0.004\n",
      "x14            0.1515      0.198      0.766      0.444      -0.237       0.540\n",
      "x15            0.4189      0.476      0.880      0.379      -0.517       1.355\n",
      "x16            2.2430      0.563      3.987      0.000       1.137       3.349\n",
      "x17           -1.5517      0.845     -1.837      0.067      -3.212       0.109\n",
      "x18            0.1517      0.056      2.716      0.007       0.042       0.261\n",
      "x19            0.0038      0.003      1.096      0.274      -0.003       0.011\n",
      "x20            0.0661      0.086      0.764      0.445      -0.104       0.236\n",
      "x21            0.3385      0.634      0.534      0.593      -0.907       1.584\n",
      "x22           -0.0302      0.047     -0.648      0.517      -0.122       0.061\n",
      "x23            0.4588      0.334      1.374      0.170      -0.197       1.115\n",
      "x24            0.0235      0.006      4.013      0.000       0.012       0.035\n",
      "x25           -0.0002      0.001     -0.362      0.718      -0.001       0.001\n",
      "x26           -0.0049      0.005     -0.961      0.337      -0.015       0.005\n",
      "x27           -0.0377      0.065     -0.582      0.561      -0.165       0.090\n",
      "x28           -0.6779      0.627     -1.082      0.280      -1.909       0.554\n",
      "x29            0.0098      0.028      0.355      0.723      -0.045       0.064\n",
      "x30            0.0002      0.001      0.248      0.805      -0.002       0.002\n",
      "x31           -0.0136      0.010     -1.390      0.165      -0.033       0.006\n",
      "x32           -0.0056      0.007     -0.783      0.434      -0.019       0.008\n",
      "x33            0.0006      0.000      2.937      0.003       0.000       0.001\n",
      "x34           -0.0057      0.008     -0.742      0.459      -0.021       0.009\n",
      "x35           -0.0051      0.005     -1.123      0.262      -0.014       0.004\n",
      "x36            0.0355      0.016      2.246      0.025       0.004       0.067\n",
      "x37           -0.0353      0.403     -0.088      0.930      -0.828       0.757\n",
      "x38            1.7698      2.088      0.848      0.397      -2.335       5.874\n",
      "x39            0.3125      0.139      2.247      0.025       0.039       0.586\n",
      "x40            0.0043      0.004      1.131      0.259      -0.003       0.012\n",
      "x41            0.1496      0.083      1.812      0.071      -0.013       0.312\n",
      "x42            0.0181      0.071      0.253      0.800      -0.122       0.158\n",
      "x43            0.0004      0.001      0.375      0.708      -0.002       0.002\n",
      "x44           -0.0157      0.042     -0.377      0.706      -0.097       0.066\n",
      "x45           -0.0198      0.015     -1.280      0.201      -0.050       0.011\n",
      "x46           34.1509      9.909      3.446      0.001      14.673      53.629\n",
      "x47          -42.1493     11.802     -3.571      0.000     -65.349     -18.950\n",
      "x48           -5.6796      1.254     -4.530      0.000      -8.144      -3.215\n",
      "x49            0.0230      0.059      0.390      0.697      -0.093       0.139\n",
      "x50            0.9070      1.334      0.680      0.497      -1.715       3.529\n",
      "x51           -0.0721      0.599     -0.120      0.904      -1.250       1.106\n",
      "x52            0.0138      0.039      0.359      0.720      -0.062       0.090\n",
      "x53           -0.8971      0.704     -1.274      0.203      -2.281       0.487\n",
      "x54           -0.1880      0.184     -1.020      0.308      -0.550       0.174\n",
      "x55          -70.1792     64.128     -1.094      0.274    -196.234      55.875\n",
      "x56           -0.5952      5.519     -0.108      0.914     -11.443      10.253\n",
      "x57           -0.3654      0.273     -1.341      0.181      -0.901       0.170\n",
      "x58            8.7487      5.603      1.561      0.119      -2.265      19.763\n",
      "x59           -1.1119      1.931     -0.576      0.565      -4.907       2.684\n",
      "x60            0.1281      0.142      0.901      0.368      -0.151       0.408\n",
      "x61           -9.8389      4.123     -2.386      0.017     -17.944      -1.734\n",
      "x62            1.3704      0.627      2.184      0.030       0.137       2.604\n",
      "x63            0.4790      0.267      1.791      0.074      -0.047       1.005\n",
      "x64           -0.0578      0.022     -2.618      0.009      -0.101      -0.014\n",
      "x65           -0.0129      0.332     -0.039      0.969      -0.666       0.640\n",
      "x66           -0.0600      0.153     -0.391      0.696      -0.361       0.241\n",
      "x67           -0.0180      0.010     -1.778      0.076      -0.038       0.002\n",
      "x68           -0.5809      0.246     -2.363      0.019      -1.064      -0.098\n",
      "x69           -0.1592      0.054     -2.967      0.003      -0.265      -0.054\n",
      "x70         4.326e-05      0.000      0.102      0.919      -0.001       0.001\n",
      "x71           -0.0028      0.010     -0.295      0.769      -0.022       0.016\n",
      "x72            0.0152      0.004      3.608      0.000       0.007       0.023\n",
      "x73           -0.0005      0.000     -2.269      0.024      -0.001   -6.72e-05\n",
      "x74            0.0004      0.007      0.052      0.958      -0.014       0.015\n",
      "x75           -0.0070      0.002     -3.569      0.000      -0.011      -0.003\n",
      "x76            0.4087      0.105      3.907      0.000       0.203       0.614\n",
      "x77           -0.0605      0.071     -0.853      0.394      -0.200       0.079\n",
      "x78           -0.0045      0.003     -1.683      0.093      -0.010       0.001\n",
      "x79           -0.1558      0.102     -1.528      0.127      -0.356       0.045\n",
      "x80            0.0653      0.049      1.329      0.185      -0.031       0.162\n",
      "x81           -0.1302      0.043     -3.018      0.003      -0.215      -0.045\n",
      "x82            0.0061      0.003      2.112      0.035       0.000       0.012\n",
      "x83           -0.0749      0.094     -0.794      0.427      -0.260       0.110\n",
      "x84           -0.0348      0.015     -2.256      0.025      -0.065      -0.004\n",
      "x85        -5.264e-05   5.12e-05     -1.028      0.305      -0.000     4.8e-05\n",
      "x86            0.0049      0.003      1.898      0.058      -0.000       0.010\n",
      "x87           -0.0004      0.001     -0.361      0.718      -0.002       0.002\n",
      "x88            0.0009      0.061      0.014      0.989      -0.119       0.121\n",
      "x89           -0.0023      0.029     -0.080      0.937      -0.060       0.055\n",
      "x90            0.0174      0.005      3.729      0.000       0.008       0.027\n",
      "==============================================================================\n",
      "Omnibus:                      142.396   Durbin-Watson:                   1.557\n",
      "Prob(Omnibus):                  0.000   Jarque-Bera (JB):             1132.412\n",
      "Skew:                           0.989   Prob(JB):                    1.26e-246\n",
      "Kurtosis:                      10.057   Cond. No.                     1.28e+16\n",
      "==============================================================================\n",
      "\n",
      "Notes:\n",
      "[1] Standard Errors assume that the covariance matrix of the errors is correctly specified.\n",
      "[2] The smallest eigenvalue is 1.98e-19. This might indicate that there are\n",
      "strong multicollinearity problems or that the design matrix is singular.\n"
     ]
    }
   ],
   "source": [
    "poly = PolynomialFeatures(2)\n",
    "X = df.drop(columns=['s_no','medv'])\n",
    "y = df[['medv']]\n",
    "X2 = poly.fit_transform(X)\n",
    "print(X2.shape)\n",
    "print(poly.get_feature_names_out())\n",
    "X2 = sm.add_constant(X2)\n",
    "mod = sm.OLS(y, X2)\n",
    "res = mod.fit()\n",
    "print(res.summary())"
   ]
  },
  {
   "cell_type": "code",
   "execution_count": 34,
   "metadata": {},
   "outputs": [
    {
     "name": "stdout",
     "output_type": "stream",
     "text": [
      "(506, 79)\n",
      "['1' 'crim' 'zn' 'indus' 'chas' 'nox' 'rm' 'age' 'dis' 'rad' 'tax'\n",
      " 'ptratio' 'lstat' 'crim zn' 'crim indus' 'crim chas' 'crim nox' 'crim rm'\n",
      " 'crim age' 'crim dis' 'crim rad' 'crim tax' 'crim ptratio' 'crim lstat'\n",
      " 'zn indus' 'zn chas' 'zn nox' 'zn rm' 'zn age' 'zn dis' 'zn rad' 'zn tax'\n",
      " 'zn ptratio' 'zn lstat' 'indus chas' 'indus nox' 'indus rm' 'indus age'\n",
      " 'indus dis' 'indus rad' 'indus tax' 'indus ptratio' 'indus lstat'\n",
      " 'chas nox' 'chas rm' 'chas age' 'chas dis' 'chas rad' 'chas tax'\n",
      " 'chas ptratio' 'chas lstat' 'nox rm' 'nox age' 'nox dis' 'nox rad'\n",
      " 'nox tax' 'nox ptratio' 'nox lstat' 'rm age' 'rm dis' 'rm rad' 'rm tax'\n",
      " 'rm ptratio' 'rm lstat' 'age dis' 'age rad' 'age tax' 'age ptratio'\n",
      " 'age lstat' 'dis rad' 'dis tax' 'dis ptratio' 'dis lstat' 'rad tax'\n",
      " 'rad ptratio' 'rad lstat' 'tax ptratio' 'tax lstat' 'ptratio lstat']\n",
      "                            OLS Regression Results                            \n",
      "==============================================================================\n",
      "Dep. Variable:                   medv   R-squared:                       0.913\n",
      "Model:                            OLS   Adj. R-squared:                  0.897\n",
      "Method:                 Least Squares   F-statistic:                     57.18\n",
      "Date:                Wed, 26 Jan 2022   Prob (F-statistic):          5.15e-183\n",
      "Time:                        15:53:02   Log-Likelihood:                -1223.6\n",
      "No. Observations:                 506   AIC:                             2605.\n",
      "Df Residuals:                     427   BIC:                             2939.\n",
      "Df Model:                          78                                         \n",
      "Covariance Type:            nonrobust                                         \n",
      "==============================================================================\n",
      "                 coef    std err          t      P>|t|      [0.025      0.975]\n",
      "------------------------------------------------------------------------------\n",
      "const       -130.1766     60.504     -2.152      0.032    -249.099     -11.254\n",
      "x1           -18.9790      6.694     -2.835      0.005     -32.136      -5.822\n",
      "x2            -0.1126      0.353     -0.319      0.750      -0.806       0.581\n",
      "x3            -2.3385      1.549     -1.509      0.132      -5.384       0.707\n",
      "x4            58.1031     19.173      3.030      0.003      20.418      95.788\n",
      "x5            34.6763     75.914      0.457      0.648    -114.536     183.889\n",
      "x6            24.6391      5.753      4.283      0.000      13.332      35.947\n",
      "x7             0.9753      0.258      3.784      0.000       0.469       1.482\n",
      "x8            -1.6825      3.899     -0.432      0.666      -9.346       5.981\n",
      "x9             1.2442      2.261      0.550      0.582      -3.199       5.688\n",
      "x10            0.0504      0.118      0.429      0.668      -0.181       0.282\n",
      "x11            3.0841      2.607      1.183      0.237      -2.040       8.208\n",
      "x12            1.1425      0.823      1.388      0.166      -0.476       2.761\n",
      "x13            0.3469      0.184      1.890      0.059      -0.014       0.708\n",
      "x14            0.0666      0.458      0.145      0.884      -0.834       0.967\n",
      "x15            2.1255      0.574      3.705      0.000       0.998       3.253\n",
      "x16           -2.2080      0.847     -2.607      0.009      -3.873      -0.543\n",
      "x17            0.2476      0.044      5.580      0.000       0.160       0.335\n",
      "x18            0.0062      0.003      1.825      0.069      -0.000       0.013\n",
      "x19            0.0423      0.089      0.477      0.634      -0.132       0.216\n",
      "x20           -0.4292      0.595     -0.721      0.471      -1.599       0.741\n",
      "x21            0.0210      0.044      0.479      0.633      -0.065       0.107\n",
      "x22            0.6222      0.338      1.840      0.066      -0.042       1.287\n",
      "x23            0.0339      0.005      6.174      0.000       0.023       0.045\n",
      "x24           -0.0011      0.005     -0.225      0.822      -0.011       0.008\n",
      "x25           -0.0194      0.066     -0.296      0.768      -0.148       0.109\n",
      "x26            0.0968      0.486      0.199      0.842      -0.858       1.052\n",
      "x27            0.0024      0.027      0.090      0.928      -0.050       0.055\n",
      "x28         3.794e-05      0.001      0.043      0.965      -0.002       0.002\n",
      "x29            0.0083      0.008      1.081      0.280      -0.007       0.023\n",
      "x30           -0.0033      0.007     -0.465      0.642      -0.017       0.011\n",
      "x31            0.0004      0.000      2.329      0.020    6.57e-05       0.001\n",
      "x32           -0.0030      0.007     -0.418      0.676      -0.017       0.011\n",
      "x33           -0.0101      0.004     -2.258      0.024      -0.019      -0.001\n",
      "x34           -0.2901      0.388     -0.747      0.455      -1.053       0.473\n",
      "x35            2.5878      1.480      1.749      0.081      -0.321       5.497\n",
      "x36            0.3546      0.136      2.611      0.009       0.088       0.621\n",
      "x37            0.0008      0.004      0.220      0.826      -0.007       0.008\n",
      "x38           -0.0416      0.064     -0.648      0.517      -0.168       0.085\n",
      "x39           -0.0160      0.051     -0.313      0.754      -0.117       0.085\n",
      "x40            0.0005      0.001      0.841      0.401      -0.001       0.002\n",
      "x41           -0.0615      0.038     -1.599      0.111      -0.137       0.014\n",
      "x42           -0.0024      0.016     -0.153      0.878      -0.033       0.028\n",
      "x43          -43.6245     12.063     -3.616      0.000     -67.335     -19.914\n",
      "x44           -5.3934      1.181     -4.568      0.000      -7.714      -3.073\n",
      "x45            0.0368      0.060      0.614      0.539      -0.081       0.154\n",
      "x46            0.4251      1.359      0.313      0.755      -2.246       3.096\n",
      "x47           -0.6095      0.585     -1.042      0.298      -1.760       0.541\n",
      "x48            0.0461      0.038      1.228      0.220      -0.028       0.120\n",
      "x49           -0.5930      0.716     -0.829      0.408      -2.000       0.814\n",
      "x50           -0.2281      0.186     -1.224      0.222      -0.594       0.138\n",
      "x51            3.7207      5.408      0.688      0.492      -6.909      14.350\n",
      "x52           -0.7437      0.232     -3.200      0.001      -1.200      -0.287\n",
      "x53            2.2376      3.794      0.590      0.556      -5.220       9.695\n",
      "x54            0.4331      1.931      0.224      0.823      -3.362       4.228\n",
      "x55           -0.0476      0.134     -0.356      0.722      -0.311       0.216\n",
      "x56           -3.1381      3.172     -0.989      0.323      -9.373       3.097\n",
      "x57            1.7238      0.612      2.819      0.005       0.522       2.926\n",
      "x58           -0.0588      0.023     -2.602      0.010      -0.103      -0.014\n",
      "x59            0.2366      0.335      0.706      0.481      -0.422       0.896\n",
      "x60           -0.0942      0.155     -0.610      0.542      -0.398       0.210\n",
      "x61           -0.0222      0.010     -2.203      0.028      -0.042      -0.002\n",
      "x62           -0.4897      0.222     -2.210      0.028      -0.925      -0.054\n",
      "x63           -0.3035      0.042     -7.230      0.000      -0.386      -0.221\n",
      "x64           -0.0154      0.009     -1.695      0.091      -0.033       0.002\n",
      "x65            0.0136      0.004      3.199      0.001       0.005       0.022\n",
      "x66           -0.0003      0.000     -1.330      0.184      -0.001       0.000\n",
      "x67           -0.0093      0.007     -1.359      0.175      -0.023       0.004\n",
      "x68           -0.0053      0.002     -2.701      0.007      -0.009      -0.001\n",
      "x69           -0.0279      0.071     -0.391      0.696      -0.168       0.112\n",
      "x70           -0.0038      0.003     -1.527      0.128      -0.009       0.001\n",
      "x71           -0.0506      0.102     -0.498      0.619      -0.250       0.149\n",
      "x72            0.1264      0.049      2.593      0.010       0.031       0.222\n",
      "x73           -0.0004      0.001     -0.241      0.810      -0.003       0.003\n",
      "x74           -0.0330      0.086     -0.385      0.700      -0.201       0.135\n",
      "x75           -0.0275      0.016     -1.758      0.079      -0.058       0.003\n",
      "x76            0.0074      0.003      2.904      0.004       0.002       0.012\n",
      "x77           -0.0014      0.001     -1.398      0.163      -0.003       0.001\n",
      "x78            0.0066      0.029      0.226      0.821      -0.051       0.064\n",
      "==============================================================================\n",
      "Omnibus:                      120.321   Durbin-Watson:                   1.494\n",
      "Prob(Omnibus):                  0.000   Jarque-Bera (JB):              777.761\n",
      "Skew:                           0.860   Prob(JB):                    1.29e-169\n",
      "Kurtosis:                       8.825   Cond. No.                     2.82e+07\n",
      "==============================================================================\n",
      "\n",
      "Notes:\n",
      "[1] Standard Errors assume that the covariance matrix of the errors is correctly specified.\n",
      "[2] The condition number is large, 2.82e+07. This might indicate that there are\n",
      "strong multicollinearity or other numerical problems.\n"
     ]
    }
   ],
   "source": [
    "poly = PolynomialFeatures(2,interaction_only=True)\n",
    "X = df.drop(columns=['s_no','medv'])\n",
    "y = df[['medv']]\n",
    "X2 = poly.fit_transform(X)\n",
    "print(X2.shape)\n",
    "print(poly.get_feature_names_out())\n",
    "X2 = sm.add_constant(X2)\n",
    "mod = sm.OLS(y, X2)\n",
    "res = mod.fit()\n",
    "print(res.summary())"
   ]
  },
  {
   "cell_type": "markdown",
   "metadata": {},
   "source": [
    "kNN Regression Method"
   ]
  },
  {
   "cell_type": "code",
   "execution_count": 37,
   "metadata": {},
   "outputs": [],
   "source": [
    "from sklearn.neighbors import KNeighborsRegressor"
   ]
  },
  {
   "cell_type": "code",
   "execution_count": 39,
   "metadata": {},
   "outputs": [
    {
     "name": "stdout",
     "output_type": "stream",
     "text": [
      "0.9766548777158833\n",
      "Mean squared error: 0.63\n",
      "Coefficient of determination: 0.977\n"
     ]
    }
   ],
   "source": [
    "neigh = KNeighborsRegressor(n_neighbors=5)\n",
    "X = df[['TV','radio']]\n",
    "y = df[['sales']]\n",
    "knn_reg = neigh.fit(X, y)\n",
    "print(knn_reg.score(X, y))\n",
    "#print(reg.coef_)\n",
    "#print(reg.intercept_)\n",
    "y_pred = knn_reg.predict(X)\n",
    "print(\"Mean squared error: %.2f\" % mean_squared_error(y, y_pred))\n",
    "print(\"Coefficient of determination: %.3f\" % r2_score(y, y_pred))"
   ]
  },
  {
   "cell_type": "code",
   "execution_count": 40,
   "metadata": {},
   "outputs": [
    {
     "name": "stdout",
     "output_type": "stream",
     "text": [
      "0.9855520550978655\n",
      "Mean squared error: 0.39\n",
      "Coefficient of determination: 0.986\n"
     ]
    }
   ],
   "source": [
    "neigh = KNeighborsRegressor(n_neighbors=3)\n",
    "X = df[['TV','radio']]\n",
    "y = df[['sales']]\n",
    "knn_reg = neigh.fit(X, y)\n",
    "print(knn_reg.score(X, y))\n",
    "#print(reg.coef_)\n",
    "#print(reg.intercept_)\n",
    "y_pred = knn_reg.predict(X)\n",
    "print(\"Mean squared error: %.2f\" % mean_squared_error(y, y_pred))\n",
    "print(\"Coefficient of determination: %.3f\" % r2_score(y, y_pred))"
   ]
  },
  {
   "cell_type": "code",
   "execution_count": 41,
   "metadata": {},
   "outputs": [
    {
     "name": "stdout",
     "output_type": "stream",
     "text": [
      "[ True False]\n",
      "['TV']\n"
     ]
    }
   ],
   "source": [
    "sfs = SequentialFeatureSelector(neigh, n_features_to_select=1)\n",
    "sfs.fit(X, y)\n",
    "print(sfs.get_support())\n",
    "print(sfs.get_feature_names_out())"
   ]
  },
  {
   "cell_type": "code",
   "execution_count": 43,
   "metadata": {},
   "outputs": [
    {
     "name": "stdout",
     "output_type": "stream",
     "text": [
      "0.9855520550978655\n",
      "Mean squared error: 0.39\n",
      "Coefficient of determination: 0.986\n"
     ]
    }
   ],
   "source": [
    "neigh = KNeighborsRegressor(n_neighbors=3)\n",
    "#X = df[['TV','radio']]\n",
    "#y = df[['sales']]\n",
    "knn_reg = neigh.fit(X, y)\n",
    "print(knn_reg.score(X, y))\n",
    "#print(reg.coef_)\n",
    "#print(reg.intercept_)\n",
    "y_pred = knn_reg.predict(X)\n",
    "print(\"Mean squared error: %.2f\" % mean_squared_error(y, y_pred))\n",
    "print(\"Coefficient of determination: %.3f\" % r2_score(y, y_pred))"
   ]
  },
  {
   "cell_type": "code",
   "execution_count": 47,
   "metadata": {},
   "outputs": [
    {
     "name": "stdout",
     "output_type": "stream",
     "text": [
      "['TV']\n"
     ]
    }
   ],
   "source": [
    "sfs = SequentialFeatureSelector(neigh, direction='forward',n_features_to_select=1)\n",
    "sfs.fit(X, y)\n",
    "print(sfs.get_feature_names_out())"
   ]
  },
  {
   "cell_type": "code",
   "execution_count": 49,
   "metadata": {},
   "outputs": [
    {
     "ename": "ValueError",
     "evalue": "n_features_to_select must be either None, an integer in [1, n_features - 1] representing the absolute number of features, or a float in (0, 1] representing a percentage of features to select. Got 5",
     "output_type": "error",
     "traceback": [
      "\u001b[0;31m---------------------------------------------------------------------------\u001b[0m",
      "\u001b[0;31mValueError\u001b[0m                                Traceback (most recent call last)",
      "\u001b[0;32m<ipython-input-49-b3e9973d6973>\u001b[0m in \u001b[0;36m<module>\u001b[0;34m\u001b[0m\n\u001b[1;32m      1\u001b[0m \u001b[0msfs\u001b[0m \u001b[0;34m=\u001b[0m \u001b[0mSequentialFeatureSelector\u001b[0m\u001b[0;34m(\u001b[0m\u001b[0mneigh\u001b[0m\u001b[0;34m,\u001b[0m \u001b[0mdirection\u001b[0m\u001b[0;34m=\u001b[0m\u001b[0;34m'backward'\u001b[0m\u001b[0;34m,\u001b[0m\u001b[0mn_features_to_select\u001b[0m\u001b[0;34m=\u001b[0m\u001b[0;36m5\u001b[0m\u001b[0;34m)\u001b[0m\u001b[0;34m\u001b[0m\u001b[0;34m\u001b[0m\u001b[0m\n\u001b[0;32m----> 2\u001b[0;31m \u001b[0msfs\u001b[0m\u001b[0;34m.\u001b[0m\u001b[0mfit\u001b[0m\u001b[0;34m(\u001b[0m\u001b[0mX\u001b[0m\u001b[0;34m,\u001b[0m \u001b[0my\u001b[0m\u001b[0;34m)\u001b[0m\u001b[0;34m\u001b[0m\u001b[0;34m\u001b[0m\u001b[0m\n\u001b[0m\u001b[1;32m      3\u001b[0m \u001b[0mprint\u001b[0m\u001b[0;34m(\u001b[0m\u001b[0msfs\u001b[0m\u001b[0;34m.\u001b[0m\u001b[0mget_feature_names_out\u001b[0m\u001b[0;34m(\u001b[0m\u001b[0;34m)\u001b[0m\u001b[0;34m)\u001b[0m\u001b[0;34m\u001b[0m\u001b[0;34m\u001b[0m\u001b[0m\n",
      "\u001b[0;32m/opt/anaconda3/lib/python3.8/site-packages/sklearn/feature_selection/_sequential.py\u001b[0m in \u001b[0;36mfit\u001b[0;34m(self, X, y)\u001b[0m\n\u001b[1;32m    180\u001b[0m         \u001b[0;32melif\u001b[0m \u001b[0misinstance\u001b[0m\u001b[0;34m(\u001b[0m\u001b[0mself\u001b[0m\u001b[0;34m.\u001b[0m\u001b[0mn_features_to_select\u001b[0m\u001b[0;34m,\u001b[0m \u001b[0mnumbers\u001b[0m\u001b[0;34m.\u001b[0m\u001b[0mIntegral\u001b[0m\u001b[0;34m)\u001b[0m\u001b[0;34m:\u001b[0m\u001b[0;34m\u001b[0m\u001b[0;34m\u001b[0m\u001b[0m\n\u001b[1;32m    181\u001b[0m             \u001b[0;32mif\u001b[0m \u001b[0;32mnot\u001b[0m \u001b[0;36m0\u001b[0m \u001b[0;34m<\u001b[0m \u001b[0mself\u001b[0m\u001b[0;34m.\u001b[0m\u001b[0mn_features_to_select\u001b[0m \u001b[0;34m<\u001b[0m \u001b[0mn_features\u001b[0m\u001b[0;34m:\u001b[0m\u001b[0;34m\u001b[0m\u001b[0;34m\u001b[0m\u001b[0m\n\u001b[0;32m--> 182\u001b[0;31m                 \u001b[0;32mraise\u001b[0m \u001b[0mValueError\u001b[0m\u001b[0;34m(\u001b[0m\u001b[0merror_msg\u001b[0m\u001b[0;34m)\u001b[0m\u001b[0;34m\u001b[0m\u001b[0;34m\u001b[0m\u001b[0m\n\u001b[0m\u001b[1;32m    183\u001b[0m             \u001b[0mself\u001b[0m\u001b[0;34m.\u001b[0m\u001b[0mn_features_to_select_\u001b[0m \u001b[0;34m=\u001b[0m \u001b[0mself\u001b[0m\u001b[0;34m.\u001b[0m\u001b[0mn_features_to_select\u001b[0m\u001b[0;34m\u001b[0m\u001b[0;34m\u001b[0m\u001b[0m\n\u001b[1;32m    184\u001b[0m         \u001b[0;32melif\u001b[0m \u001b[0misinstance\u001b[0m\u001b[0;34m(\u001b[0m\u001b[0mself\u001b[0m\u001b[0;34m.\u001b[0m\u001b[0mn_features_to_select\u001b[0m\u001b[0;34m,\u001b[0m \u001b[0mnumbers\u001b[0m\u001b[0;34m.\u001b[0m\u001b[0mReal\u001b[0m\u001b[0;34m)\u001b[0m\u001b[0;34m:\u001b[0m\u001b[0;34m\u001b[0m\u001b[0;34m\u001b[0m\u001b[0m\n",
      "\u001b[0;31mValueError\u001b[0m: n_features_to_select must be either None, an integer in [1, n_features - 1] representing the absolute number of features, or a float in (0, 1] representing a percentage of features to select. Got 5"
     ]
    }
   ],
   "source": [
    "sfs = SequentialFeatureSelector(neigh, direction='backward',n_features_to_select=5)\n",
    "sfs.fit(X, y)\n",
    "print(sfs.get_feature_names_out())"
   ]
  }
 ],
 "metadata": {
  "interpreter": {
   "hash": "dca0ade3e726a953b501b15e8e990130d2b7799f14cfd9f4271676035ebe5511"
  },
  "kernelspec": {
   "display_name": "Python 3.8.8 64-bit ('base': conda)",
   "name": "python3"
  },
  "language_info": {
   "codemirror_mode": {
    "name": "ipython",
    "version": 3
   },
   "file_extension": ".py",
   "mimetype": "text/x-python",
   "name": "python",
   "nbconvert_exporter": "python",
   "pygments_lexer": "ipython3",
   "version": "3.8.8"
  },
  "orig_nbformat": 4
 },
 "nbformat": 4,
 "nbformat_minor": 2
}