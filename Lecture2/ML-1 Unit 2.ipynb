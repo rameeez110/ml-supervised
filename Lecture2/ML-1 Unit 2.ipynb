{
 "cells": [
  {
   "cell_type": "code",
   "execution_count": null,
   "metadata": {},
   "outputs": [],
   "source": [
    "from sklearn.linear_model import LinearRegression\n",
    "from sklearn.metrics import mean_squared_error, r2_score\n",
    "from sklearn.model_selection import train_test_split\n",
    "import pandas as pd\n",
    "import matplotlib.pyplot as plt\n",
    "import statsmodels.api as sm"
   ]
  },
  {
   "cell_type": "markdown",
   "metadata": {},
   "source": [
    "Loading the Advertising Data"
   ]
  },
  {
   "cell_type": "code",
   "execution_count": null,
   "metadata": {},
   "outputs": [],
   "source": [
    "df = pd.read_csv(\"ISL_DataSets\\Advertising.csv\")\n",
    "print(df.shape)\n",
    "print(df.columns)"
   ]
  },
  {
   "cell_type": "markdown",
   "metadata": {},
   "source": [
    "Running Single Variable Regression"
   ]
  },
  {
   "cell_type": "code",
   "execution_count": null,
   "metadata": {},
   "outputs": [],
   "source": [
    "#X = df[['TV','radio','newspaper']]\n",
    "X = df[['TV']]\n",
    "y = df[['sales']]\n",
    "reg = LinearRegression().fit(X, y)\n",
    "print(reg.score(X, y))\n",
    "print(reg.coef_)\n",
    "print(reg.intercept_)"
   ]
  },
  {
   "cell_type": "code",
   "execution_count": null,
   "metadata": {},
   "outputs": [],
   "source": [
    "y_pred = reg.predict(X)\n",
    "print(\"Mean squared error: %.2f\" % mean_squared_error(y, y_pred))\n",
    "print(\"Coefficient of determination: %.2f\" % r2_score(y, y_pred))"
   ]
  },
  {
   "cell_type": "code",
   "execution_count": null,
   "metadata": {},
   "outputs": [],
   "source": [
    "plt.scatter(X, y, color=\"black\")\n",
    "plt.plot(X, y_pred, color=\"blue\", linewidth=3)\n",
    "\n",
    "#plt.xticks(())\n",
    "#plt.yticks(())\n",
    "\n",
    "plt.show()"
   ]
  },
  {
   "cell_type": "markdown",
   "metadata": {},
   "source": [
    "Running the Regression on Test Data and Analyze the Difference in R2 and MSE"
   ]
  },
  {
   "cell_type": "code",
   "execution_count": null,
   "metadata": {},
   "outputs": [],
   "source": [
    "# repeat this activity multiple times and record the R2 and MSE for each run\n",
    "X_train, X_test, y_train, y_test = train_test_split(X, y, test_size = 0.3)"
   ]
  },
  {
   "cell_type": "code",
   "execution_count": null,
   "metadata": {},
   "outputs": [],
   "source": [
    "reg2 = LinearRegression().fit(X_train, y_train)\n",
    "print(reg2.score(X, y))\n",
    "print(reg2.coef_)\n",
    "print(reg2.intercept_)\n",
    "y_pred_test = reg2.predict(X_test)\n",
    "print(\"Mean squared error: %.2f\" % mean_squared_error(y_test, y_pred_test))\n",
    "print(\"Coefficient of determination: %.3f\" % r2_score(y_test, y_pred_test))"
   ]
  },
  {
   "cell_type": "code",
   "execution_count": null,
   "metadata": {},
   "outputs": [],
   "source": [
    "#repeat the activity for radio and newspaper as well"
   ]
  },
  {
   "cell_type": "markdown",
   "metadata": {},
   "source": [
    "Multiple Linear Regression"
   ]
  },
  {
   "cell_type": "code",
   "execution_count": null,
   "metadata": {},
   "outputs": [],
   "source": [
    "# 2 variables\n",
    "#X = df[['TV','radio','newspaper']]\n",
    "X = df[['TV','radio']]\n",
    "y = df[['sales']]\n",
    "reg = LinearRegression().fit(X, y)\n",
    "print(reg.score(X, y))\n",
    "print(reg.coef_)\n",
    "print(reg.intercept_)\n",
    "y_pred = reg.predict(X)\n",
    "print(\"Mean squared error: %.2f\" % mean_squared_error(y, y_pred))\n",
    "print(\"Coefficient of determination: %.3f\" % r2_score(y, y_pred))"
   ]
  },
  {
   "cell_type": "code",
   "execution_count": null,
   "metadata": {},
   "outputs": [],
   "source": [
    "# train test split\n",
    "#X = df[['TV','radio','newspaper']]\n",
    "X = df[['TV','radio']]\n",
    "y = df[['sales']]\n",
    "X_train, X_test, y_train, y_test = train_test_split(X, y, test_size = 0.3)\n",
    "reg2 = LinearRegression().fit(X_train, y_train)\n",
    "print(reg2.score(X_train, y_train))\n",
    "print(reg2.coef_)\n",
    "print(reg2.intercept_)\n",
    "y_pred_test = reg2.predict(X_test)\n",
    "print(\"Mean squared error: %.2f\" % mean_squared_error(y_test, y_pred_test))\n",
    "print(\"Coefficient of determination: %.3f\" % r2_score(y_test, y_pred_test))"
   ]
  },
  {
   "cell_type": "code",
   "execution_count": null,
   "metadata": {},
   "outputs": [],
   "source": [
    "# 3 variables\n",
    "X = df[['TV','radio','newspaper']]\n",
    "#X = df[['TV','radio']]\n",
    "y = df[['sales']]\n",
    "reg = LinearRegression().fit(X, y)\n",
    "print(reg.score(X, y))\n",
    "print(reg.coef_)\n",
    "print(reg.intercept_)\n",
    "y_pred = reg.predict(X)\n",
    "print(\"Mean squared error: %.2f\" % mean_squared_error(y, y_pred))\n",
    "print(\"Coefficient of determination: %.3f\" % r2_score(y, y_pred))"
   ]
  },
  {
   "cell_type": "code",
   "execution_count": null,
   "metadata": {},
   "outputs": [],
   "source": [
    "# train test split - 3 variables\n",
    "X = df[['TV','radio','newspaper']]\n",
    "#X = df[['TV','radio']]\n",
    "y = df[['sales']]\n",
    "X_train, X_test, y_train, y_test = train_test_split(X, y, test_size = 0.3)\n",
    "reg2 = LinearRegression().fit(X_train, y_train)\n",
    "print(reg2.score(X_train, y_train))\n",
    "print(reg2.coef_)\n",
    "print(reg2.intercept_)\n",
    "y_pred_test = reg2.predict(X_test)\n",
    "print(\"Mean squared error: %.2f\" % mean_squared_error(y_test, y_pred_test))\n",
    "print(\"Coefficient of determination: %.3f\" % r2_score(y_test, y_pred_test))"
   ]
  },
  {
   "cell_type": "code",
   "execution_count": null,
   "metadata": {},
   "outputs": [],
   "source": [
    "#compute correlation matrix\n",
    "X2 = df.drop(columns=['S_No'])\n",
    "X2.corr()"
   ]
  },
  {
   "cell_type": "markdown",
   "metadata": {},
   "source": [
    "Using Statsmodel Library"
   ]
  },
  {
   "cell_type": "code",
   "execution_count": null,
   "metadata": {},
   "outputs": [],
   "source": [
    "X = sm.add_constant(X)\n",
    "mod = sm.OLS(y, X)\n",
    "res = mod.fit()\n",
    "print(res.summary())\n"
   ]
  },
  {
   "cell_type": "markdown",
   "metadata": {},
   "source": [
    "Interaction Model"
   ]
  },
  {
   "cell_type": "code",
   "execution_count": null,
   "metadata": {},
   "outputs": [],
   "source": [
    "X = df[['TV','radio']]\n",
    "X['TV_Radio'] = df['TV']*df['radio']\n",
    "print(X.shape)\n",
    "X.head()"
   ]
  },
  {
   "cell_type": "code",
   "execution_count": null,
   "metadata": {},
   "outputs": [],
   "source": [
    "y = df[['sales']]\n",
    "reg = LinearRegression().fit(X, y)\n",
    "print(reg.score(X, y))\n",
    "print(reg.coef_)\n",
    "print(reg.intercept_)\n",
    "y_pred = reg.predict(X)\n",
    "print(\"Mean squared error: %.2f\" % mean_squared_error(y, y_pred))\n",
    "print(\"Coefficient of determination: %.3f\" % r2_score(y, y_pred))"
   ]
  },
  {
   "cell_type": "code",
   "execution_count": null,
   "metadata": {},
   "outputs": [],
   "source": [
    "X = sm.add_constant(X)\n",
    "mod = sm.OLS(y, X)\n",
    "res = mod.fit()\n",
    "print(res.summary())"
   ]
  },
  {
   "cell_type": "code",
   "execution_count": null,
   "metadata": {},
   "outputs": [],
   "source": [
    "#show it for test data as well"
   ]
  },
  {
   "cell_type": "code",
   "execution_count": null,
   "metadata": {},
   "outputs": [],
   "source": [
    "from sklearn.preprocessing import PolynomialFeatures"
   ]
  },
  {
   "cell_type": "code",
   "execution_count": null,
   "metadata": {},
   "outputs": [],
   "source": [
    "poly = PolynomialFeatures(2,interaction_only=True)\n",
    "X = X = df[['TV','radio']]\n",
    "y = df[['sales']]\n",
    "X2 = poly.fit_transform(X)\n",
    "print(X2.shape)\n",
    "print(poly.get_feature_names_out())\n",
    "X2 = sm.add_constant(X2)\n",
    "mod = sm.OLS(y, X2)\n",
    "res = mod.fit()\n",
    "print(res.summary())"
   ]
  },
  {
   "cell_type": "code",
   "execution_count": null,
   "metadata": {},
   "outputs": [],
   "source": [
    "poly = PolynomialFeatures(2) #,interaction_only=True)\n",
    "X = df[['TV','radio']]\n",
    "y = df[['sales']]\n",
    "X2 = poly.fit_transform(X)\n",
    "print(X2.shape)\n",
    "print(poly.get_feature_names_out())\n",
    "X2 = sm.add_constant(X2)\n",
    "mod = sm.OLS(y, X2)\n",
    "res = mod.fit()\n",
    "print(res.summary())"
   ]
  },
  {
   "cell_type": "markdown",
   "metadata": {},
   "source": [
    "Feature Selection (Forward and Backward)"
   ]
  },
  {
   "cell_type": "code",
   "execution_count": null,
   "metadata": {},
   "outputs": [],
   "source": [
    "from sklearn.feature_selection import SequentialFeatureSelector"
   ]
  },
  {
   "cell_type": "markdown",
   "metadata": {},
   "source": [
    "Multiple Regression and Feature Selection using Boston Data"
   ]
  },
  {
   "cell_type": "code",
   "execution_count": null,
   "metadata": {},
   "outputs": [],
   "source": [
    "df = pd.read_csv(\"ISL_DataSets\\Boston.csv\")\n",
    "print(df.shape)\n",
    "print(df.columns)"
   ]
  },
  {
   "cell_type": "code",
   "execution_count": null,
   "metadata": {},
   "outputs": [],
   "source": [
    "X = df.drop(columns=['s_no','medv'])\n",
    "print(X.shape)\n",
    "y = df[['medv']]"
   ]
  },
  {
   "cell_type": "code",
   "execution_count": null,
   "metadata": {},
   "outputs": [],
   "source": [
    "X = sm.add_constant(X)\n",
    "mod = sm.OLS(y, X)\n",
    "res = mod.fit()\n",
    "print(res.summary())"
   ]
  },
  {
   "cell_type": "code",
   "execution_count": null,
   "metadata": {},
   "outputs": [],
   "source": [
    "ols_reg = LinearRegression()\n",
    "sfs = SequentialFeatureSelector(ols_reg, direction='forward',n_features_to_select=5)\n",
    "sfs.fit(X, y)\n",
    "print(sfs.get_feature_names_out())"
   ]
  },
  {
   "cell_type": "code",
   "execution_count": null,
   "metadata": {},
   "outputs": [],
   "source": [
    "ols_reg = LinearRegression()\n",
    "sfs = SequentialFeatureSelector(ols_reg, direction='backward',n_features_to_select=5)\n",
    "sfs.fit(X, y)\n",
    "print(sfs.get_feature_names_out())"
   ]
  },
  {
   "cell_type": "markdown",
   "metadata": {},
   "source": [
    "Automating Polynomial Regression and Interaction"
   ]
  },
  {
   "cell_type": "code",
   "execution_count": null,
   "metadata": {},
   "outputs": [],
   "source": [
    "poly = PolynomialFeatures(2)\n",
    "X = df.drop(columns=['s_no','medv'])\n",
    "y = df[['medv']]\n",
    "X2 = poly.fit_transform(X)\n",
    "print(X2.shape)\n",
    "print(poly.get_feature_names_out())\n",
    "X2 = sm.add_constant(X2)\n",
    "mod = sm.OLS(y, X2)\n",
    "res = mod.fit()\n",
    "print(res.summary())"
   ]
  },
  {
   "cell_type": "code",
   "execution_count": null,
   "metadata": {},
   "outputs": [],
   "source": [
    "poly = PolynomialFeatures(2,interaction_only=True)\n",
    "X = df.drop(columns=['s_no','medv'])\n",
    "y = df[['medv']]\n",
    "X2 = poly.fit_transform(X)\n",
    "print(X2.shape)\n",
    "print(poly.get_feature_names_out())\n",
    "X2 = sm.add_constant(X2)\n",
    "mod = sm.OLS(y, X2)\n",
    "res = mod.fit()\n",
    "print(res.summary())"
   ]
  },
  {
   "cell_type": "markdown",
   "metadata": {},
   "source": [
    "kNN Regression Method"
   ]
  },
  {
   "cell_type": "code",
   "execution_count": null,
   "metadata": {},
   "outputs": [],
   "source": [
    "from sklearn.neighbors import KNeighborsRegressor"
   ]
  },
  {
   "cell_type": "code",
   "execution_count": null,
   "metadata": {},
   "outputs": [],
   "source": [
    "neigh = KNeighborsRegressor(n_neighbors=5)\n",
    "X = df[['TV','radio']]\n",
    "y = df[['sales']]\n",
    "knn_reg = neigh.fit(X, y)\n",
    "print(knn_reg.score(X, y))\n",
    "#print(reg.coef_)\n",
    "#print(reg.intercept_)\n",
    "y_pred = knn_reg.predict(X)\n",
    "print(\"Mean squared error: %.2f\" % mean_squared_error(y, y_pred))\n",
    "print(\"Coefficient of determination: %.3f\" % r2_score(y, y_pred))"
   ]
  },
  {
   "cell_type": "code",
   "execution_count": null,
   "metadata": {},
   "outputs": [],
   "source": [
    "neigh = KNeighborsRegressor(n_neighbors=3)\n",
    "X = df[['TV','radio']]\n",
    "y = df[['sales']]\n",
    "knn_reg = neigh.fit(X, y)\n",
    "print(knn_reg.score(X, y))\n",
    "#print(reg.coef_)\n",
    "#print(reg.intercept_)\n",
    "y_pred = knn_reg.predict(X)\n",
    "print(\"Mean squared error: %.2f\" % mean_squared_error(y, y_pred))\n",
    "print(\"Coefficient of determination: %.3f\" % r2_score(y, y_pred))"
   ]
  },
  {
   "cell_type": "code",
   "execution_count": null,
   "metadata": {},
   "outputs": [],
   "source": [
    "sfs = SequentialFeatureSelector(neigh, n_features_to_select=1)\n",
    "sfs.fit(X, y)\n",
    "print(sfs.get_support())\n",
    "print(sfs.get_feature_names_out())"
   ]
  },
  {
   "cell_type": "code",
   "execution_count": null,
   "metadata": {},
   "outputs": [],
   "source": [
    "neigh = KNeighborsRegressor(n_neighbors=3)\n",
    "#X = df[['TV','radio']]\n",
    "#y = df[['sales']]\n",
    "knn_reg = neigh.fit(X, y)\n",
    "print(knn_reg.score(X, y))\n",
    "#print(reg.coef_)\n",
    "#print(reg.intercept_)\n",
    "y_pred = knn_reg.predict(X)\n",
    "print(\"Mean squared error: %.2f\" % mean_squared_error(y, y_pred))\n",
    "print(\"Coefficient of determination: %.3f\" % r2_score(y, y_pred))"
   ]
  },
  {
   "cell_type": "code",
   "execution_count": null,
   "metadata": {},
   "outputs": [],
   "source": [
    "sfs = SequentialFeatureSelector(neigh, direction='forward',n_features_to_select=5)\n",
    "sfs.fit(X, y)\n",
    "print(sfs.get_feature_names_out())"
   ]
  },
  {
   "cell_type": "code",
   "execution_count": null,
   "metadata": {},
   "outputs": [],
   "source": [
    "sfs = SequentialFeatureSelector(neigh, direction='backward',n_features_to_select=5)\n",
    "sfs.fit(X, y)\n",
    "print(sfs.get_feature_names_out())"
   ]
  }
 ],
 "metadata": {
  "interpreter": {
   "hash": "b0fa6594d8f4cbf19f97940f81e996739fb7646882a419484c72d19e05852a7e"
  },
  "kernelspec": {
   "display_name": "Python 3.9.7 64-bit",
   "name": "python3"
  },
  "language_info": {
   "name": "python",
   "version": ""
  },
  "orig_nbformat": 4
 },
 "nbformat": 4,
 "nbformat_minor": 2
}