{
 "cells": [
  {
   "cell_type": "code",
   "execution_count": 2,
   "metadata": {},
   "outputs": [],
   "source": [
    "from sklearn.linear_model import LinearRegression\n",
    "from sklearn.metrics import mean_squared_error, r2_score\n",
    "from sklearn.model_selection import train_test_split\n",
    "import pandas as pd\n",
    "import matplotlib.pyplot as plt\n",
    "import statsmodels.api as sm"
   ]
  },
  {
   "cell_type": "code",
   "execution_count": 4,
   "metadata": {},
   "outputs": [],
   "source": [
    "from sklearn.feature_selection import SequentialFeatureSelector\n",
    "from sklearn.neighbors import KNeighborsRegressor"
   ]
  },
  {
   "cell_type": "code",
   "execution_count": 6,
   "metadata": {},
   "outputs": [
    {
     "name": "stdout",
     "output_type": "stream",
     "text": [
      "(1436, 35)\n",
      "Index(['Id', 'Price', 'Age_08_04', 'Mfg_Month', 'Mfg_Year', 'KM', 'HP',\n",
      "       'Met_Color', 'Automatic', 'cc', 'Doors', 'Cylinders', 'Gears',\n",
      "       'Quarterly_Tax', 'Weight', 'Mfr_Guarantee', 'BOVAG_Guarantee',\n",
      "       'Guarantee_Period', 'ABS', 'Airbag_1', 'Airbag_2', 'Airco',\n",
      "       'Automatic_airco', 'Boardcomputer', 'CD_Player', 'Central_Lock',\n",
      "       'Powered_Windows', 'Power_Steering', 'Radio', 'Mistlamps',\n",
      "       'Sport_Model', 'Backseat_Divider', 'Metallic_Rim', 'Radio_cassette',\n",
      "       'Tow_Bar'],\n",
      "      dtype='object')\n"
     ]
    }
   ],
   "source": [
    "df = pd.read_excel(\"ToyotaCorolla2.xls\")\n",
    "print(df.shape)\n",
    "print(df.columns)"
   ]
  },
  {
   "cell_type": "code",
   "execution_count": 49,
   "metadata": {},
   "outputs": [
    {
     "name": "stdout",
     "output_type": "stream",
     "text": [
      "0.7069352848054946\n",
      "Mean squared error: 10113514.70\n",
      "Coefficient of determination: 0.374\n"
     ]
    }
   ],
   "source": [
    "# train test split\n",
    "X = df[['Age_08_04', 'Mfg_Month', 'Mfg_Year', 'KM', 'HP', 'Automatic', 'cc', 'Doors', 'Cylinders', 'Gears',\n",
    "       'Quarterly_Tax', 'Weight', 'Mfr_Guarantee', 'BOVAG_Guarantee',\n",
    "       'Guarantee_Period', 'ABS', 'Airco',\n",
    "       'Automatic_airco', 'Boardcomputer', 'CD_Player','Powered_Windows', 'Radio', 'Mistlamps',\n",
    "       'Sport_Model', 'Backseat_Divider', 'Metallic_Rim', 'Radio_cassette',\n",
    "       'Tow_Bar']]\n",
    "y = df[['Price']]\n",
    "X_train, X_test, y_train, y_test = train_test_split(X, y, test_size = 0.3)\n",
    "neigh = KNeighborsRegressor(n_neighbors=3)\n",
    "\n",
    "\n",
    "knn_reg = neigh.fit(X_train, y_train)\n",
    "print(knn_reg.score(X_train, y_train))\n",
    "\n",
    "y_pred = knn_reg.predict(X_test)\n",
    "print(\"Mean squared error: %.2f\" % mean_squared_error(y_test, y_pred))\n",
    "print(\"Coefficient of determination: %.3f\" % r2_score(y_test, y_pred))"
   ]
  },
  {
   "cell_type": "code",
   "execution_count": 50,
   "metadata": {},
   "outputs": [
    {
     "name": "stdout",
     "output_type": "stream",
     "text": [
      "                            OLS Regression Results                            \n",
      "==============================================================================\n",
      "Dep. Variable:                  Price   R-squared:                       0.926\n",
      "Model:                            OLS   Adj. R-squared:                  0.922\n",
      "Method:                 Least Squares   F-statistic:                     203.1\n",
      "Date:                Thu, 27 Jan 2022   Prob (F-statistic):          1.11e-211\n",
      "Time:                        20:50:55   Log-Likelihood:                -3626.9\n",
      "No. Observations:                 431   AIC:                             7306.\n",
      "Df Residuals:                     405   BIC:                             7411.\n",
      "Df Model:                          25                                         \n",
      "Covariance Type:            nonrobust                                         \n",
      "====================================================================================\n",
      "                       coef    std err          t      P>|t|      [0.025      0.975]\n",
      "------------------------------------------------------------------------------------\n",
      "Age_08_04         -128.2639      6.557    -19.562      0.000    -141.153    -115.375\n",
      "Mfg_Month         -114.8363     17.401     -6.599      0.000    -149.045     -80.628\n",
      "Mfg_Year            -3.1855      1.376     -2.315      0.021      -5.891      -0.480\n",
      "KM                  -0.0126      0.002     -5.587      0.000      -0.017      -0.008\n",
      "HP                  12.9918      4.401      2.952      0.003       4.340      21.644\n",
      "Automatic          -39.9863    257.461     -0.155      0.877    -546.114     466.141\n",
      "cc                  -0.0939      0.083     -1.134      0.257      -0.257       0.069\n",
      "Doors             -144.0843     66.647     -2.162      0.031    -275.102     -13.066\n",
      "Cylinders           -0.0468      0.004    -12.201      0.000      -0.054      -0.039\n",
      "Gears             -109.5873    307.012     -0.357      0.721    -713.124     493.949\n",
      "Quarterly_Tax       -5.9376      2.652     -2.239      0.026     -11.151      -0.724\n",
      "Weight              23.7027      2.419      9.798      0.000      18.947      28.458\n",
      "Mfr_Guarantee      478.6360    121.870      3.927      0.000     239.059     718.213\n",
      "BOVAG_Guarantee    525.1315    198.194      2.650      0.008     135.513     914.750\n",
      "Guarantee_Period    38.6756     19.285      2.005      0.046       0.765      76.587\n",
      "ABS               -298.2455    170.632     -1.748      0.081    -633.680      37.189\n",
      "Airco              199.2206    146.772      1.357      0.175     -89.310     487.751\n",
      "Automatic_airco   2101.3084    297.021      7.075      0.000    1517.412    2685.204\n",
      "Boardcomputer     -646.3455    186.067     -3.474      0.001   -1012.123    -280.568\n",
      "CD_Player          348.7308    161.490      2.159      0.031      31.267     666.195\n",
      "Powered_Windows    417.2397    149.542      2.790      0.006     123.263     711.216\n",
      "Radio               37.2871     85.032      0.439      0.661    -129.873     204.447\n",
      "Mistlamps         -112.1968    172.186     -0.652      0.515    -450.687     226.294\n",
      "Sport_Model        136.9367    145.657      0.940      0.348    -149.402     423.276\n",
      "Backseat_Divider   -50.6891    184.571     -0.275      0.784    -413.526     312.148\n",
      "Metallic_Rim       158.3668    160.461      0.987      0.324    -157.073     473.807\n",
      "Radio_cassette      37.2871     85.032      0.439      0.661    -129.873     204.447\n",
      "Tow_Bar             -7.1063    132.710     -0.054      0.957    -267.992     253.780\n",
      "==============================================================================\n",
      "Omnibus:                       16.613   Durbin-Watson:                   1.794\n",
      "Prob(Omnibus):                  0.000   Jarque-Bera (JB):               37.349\n",
      "Skew:                           0.103   Prob(JB):                     7.76e-09\n",
      "Kurtosis:                       4.427   Cond. No.                     1.09e+16\n",
      "==============================================================================\n",
      "\n",
      "Notes:\n",
      "[1] Standard Errors assume that the covariance matrix of the errors is correctly specified.\n",
      "[2] The smallest eigenvalue is 1.91e-20. This might indicate that there are\n",
      "strong multicollinearity problems or that the design matrix is singular.\n"
     ]
    }
   ],
   "source": [
    "# X = sm.add_constant(X)\n",
    "# mod = sm.OLS(y, X)\n",
    "X = sm.add_constant(X_test)\n",
    "mod = sm.OLS(y_test, X)\n",
    "# X = sm.add_constant(X_train)\n",
    "# mod = sm.OLS(y_train, X)\n",
    "res = mod.fit()\n",
    "print(res.summary())"
   ]
  }
 ],
 "metadata": {
  "interpreter": {
   "hash": "dca0ade3e726a953b501b15e8e990130d2b7799f14cfd9f4271676035ebe5511"
  },
  "kernelspec": {
   "display_name": "Python 3.8.8 64-bit ('base': conda)",
   "name": "python3"
  },
  "language_info": {
   "codemirror_mode": {
    "name": "ipython",
    "version": 3
   },
   "file_extension": ".py",
   "mimetype": "text/x-python",
   "name": "python",
   "nbconvert_exporter": "python",
   "pygments_lexer": "ipython3",
   "version": "3.8.8"
  },
  "orig_nbformat": 4
 },
 "nbformat": 4,
 "nbformat_minor": 2
}